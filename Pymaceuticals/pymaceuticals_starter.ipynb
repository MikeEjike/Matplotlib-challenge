{
 "cells": [
  {
   "cell_type": "markdown",
   "metadata": {},
   "source": [
    "## Observations and Insights "
   ]
  },
  {
   "cell_type": "markdown",
   "metadata": {},
   "source": []
  },
  {
   "cell_type": "code",
   "execution_count": 1,
   "metadata": {},
   "outputs": [
    {
     "data": {
      "text/html": [
       "<div>\n",
       "<style scoped>\n",
       "    .dataframe tbody tr th:only-of-type {\n",
       "        vertical-align: middle;\n",
       "    }\n",
       "\n",
       "    .dataframe tbody tr th {\n",
       "        vertical-align: top;\n",
       "    }\n",
       "\n",
       "    .dataframe thead th {\n",
       "        text-align: right;\n",
       "    }\n",
       "</style>\n",
       "<table border=\"1\" class=\"dataframe\">\n",
       "  <thead>\n",
       "    <tr style=\"text-align: right;\">\n",
       "      <th></th>\n",
       "      <th>Mouse ID</th>\n",
       "      <th>Drug Regimen</th>\n",
       "      <th>Sex</th>\n",
       "      <th>Age_months</th>\n",
       "      <th>Weight (g)</th>\n",
       "      <th>Timepoint</th>\n",
       "      <th>Tumor Volume (mm3)</th>\n",
       "      <th>Metastatic Sites</th>\n",
       "    </tr>\n",
       "  </thead>\n",
       "  <tbody>\n",
       "    <tr>\n",
       "      <th>0</th>\n",
       "      <td>k403</td>\n",
       "      <td>Ramicane</td>\n",
       "      <td>Male</td>\n",
       "      <td>21</td>\n",
       "      <td>16</td>\n",
       "      <td>0</td>\n",
       "      <td>45.000000</td>\n",
       "      <td>0</td>\n",
       "    </tr>\n",
       "    <tr>\n",
       "      <th>1</th>\n",
       "      <td>k403</td>\n",
       "      <td>Ramicane</td>\n",
       "      <td>Male</td>\n",
       "      <td>21</td>\n",
       "      <td>16</td>\n",
       "      <td>5</td>\n",
       "      <td>38.825898</td>\n",
       "      <td>0</td>\n",
       "    </tr>\n",
       "    <tr>\n",
       "      <th>2</th>\n",
       "      <td>k403</td>\n",
       "      <td>Ramicane</td>\n",
       "      <td>Male</td>\n",
       "      <td>21</td>\n",
       "      <td>16</td>\n",
       "      <td>10</td>\n",
       "      <td>35.014271</td>\n",
       "      <td>1</td>\n",
       "    </tr>\n",
       "    <tr>\n",
       "      <th>3</th>\n",
       "      <td>k403</td>\n",
       "      <td>Ramicane</td>\n",
       "      <td>Male</td>\n",
       "      <td>21</td>\n",
       "      <td>16</td>\n",
       "      <td>15</td>\n",
       "      <td>34.223992</td>\n",
       "      <td>1</td>\n",
       "    </tr>\n",
       "    <tr>\n",
       "      <th>4</th>\n",
       "      <td>k403</td>\n",
       "      <td>Ramicane</td>\n",
       "      <td>Male</td>\n",
       "      <td>21</td>\n",
       "      <td>16</td>\n",
       "      <td>20</td>\n",
       "      <td>32.997729</td>\n",
       "      <td>1</td>\n",
       "    </tr>\n",
       "  </tbody>\n",
       "</table>\n",
       "</div>"
      ],
      "text/plain": [
       "  Mouse ID Drug Regimen   Sex  Age_months  Weight (g)  Timepoint  \\\n",
       "0     k403     Ramicane  Male          21          16          0   \n",
       "1     k403     Ramicane  Male          21          16          5   \n",
       "2     k403     Ramicane  Male          21          16         10   \n",
       "3     k403     Ramicane  Male          21          16         15   \n",
       "4     k403     Ramicane  Male          21          16         20   \n",
       "\n",
       "   Tumor Volume (mm3)  Metastatic Sites  \n",
       "0           45.000000                 0  \n",
       "1           38.825898                 0  \n",
       "2           35.014271                 1  \n",
       "3           34.223992                 1  \n",
       "4           32.997729                 1  "
      ]
     },
     "execution_count": 1,
     "metadata": {},
     "output_type": "execute_result"
    }
   ],
   "source": [
    "# Dependencies and Setup\n",
    "import matplotlib.pyplot as plt\n",
    "import pandas as pd\n",
    "import scipy.stats as st\n",
    "import numpy as np\n",
    "from scipy.stats import sem\n",
    "from scipy.stats import linregress\n",
    "\n",
    "\n",
    "# Study data files\n",
    "mouse_metadata_path = \"data/Mouse_metadata.csv\"\n",
    "study_results_path = \"data/Study_results.csv\"\n",
    "\n",
    "# Read the mouse data and the study results\n",
    "mouse_metadata = pd.read_csv(mouse_metadata_path)\n",
    "study_results = pd.read_csv(study_results_path)\n",
    "\n",
    "# Combine the data into a single dataset\n",
    "combined_df = pd.merge(mouse_metadata,study_results,on=\"Mouse ID\", how=\"left\")\n",
    "\n",
    "# Display the data table for preview\n",
    "combined_df.head()"
   ]
  },
  {
   "cell_type": "code",
   "execution_count": 2,
   "metadata": {},
   "outputs": [
    {
     "data": {
      "text/plain": [
       "1893"
      ]
     },
     "execution_count": 2,
     "metadata": {},
     "output_type": "execute_result"
    }
   ],
   "source": [
    "# Checking the number of mice.\n",
    "len(combined_df['Mouse ID'])"
   ]
  },
  {
   "cell_type": "code",
   "execution_count": 3,
   "metadata": {},
   "outputs": [
    {
     "data": {
      "text/plain": [
       "909    g989\n",
       "Name: Mouse ID, dtype: object"
      ]
     },
     "execution_count": 3,
     "metadata": {},
     "output_type": "execute_result"
    }
   ],
   "source": [
    "# Getting the duplicate mice by ID number that shows up for Mouse ID and Timepoint. \n",
    "duplicateRows_DF = combined_df[combined_df.duplicated()]\n",
    "duplicateRows_DF['Mouse ID']"
   ]
  },
  {
   "cell_type": "code",
   "execution_count": 4,
   "metadata": {},
   "outputs": [
    {
     "data": {
      "text/html": [
       "<div>\n",
       "<style scoped>\n",
       "    .dataframe tbody tr th:only-of-type {\n",
       "        vertical-align: middle;\n",
       "    }\n",
       "\n",
       "    .dataframe tbody tr th {\n",
       "        vertical-align: top;\n",
       "    }\n",
       "\n",
       "    .dataframe thead th {\n",
       "        text-align: right;\n",
       "    }\n",
       "</style>\n",
       "<table border=\"1\" class=\"dataframe\">\n",
       "  <thead>\n",
       "    <tr style=\"text-align: right;\">\n",
       "      <th></th>\n",
       "      <th>Mouse ID</th>\n",
       "      <th>Drug Regimen</th>\n",
       "      <th>Sex</th>\n",
       "      <th>Age_months</th>\n",
       "      <th>Weight (g)</th>\n",
       "      <th>Timepoint</th>\n",
       "      <th>Tumor Volume (mm3)</th>\n",
       "      <th>Metastatic Sites</th>\n",
       "    </tr>\n",
       "  </thead>\n",
       "  <tbody>\n",
       "    <tr>\n",
       "      <th>909</th>\n",
       "      <td>g989</td>\n",
       "      <td>Propriva</td>\n",
       "      <td>Female</td>\n",
       "      <td>21</td>\n",
       "      <td>26</td>\n",
       "      <td>0</td>\n",
       "      <td>45.0</td>\n",
       "      <td>0</td>\n",
       "    </tr>\n",
       "  </tbody>\n",
       "</table>\n",
       "</div>"
      ],
      "text/plain": [
       "    Mouse ID Drug Regimen     Sex  Age_months  Weight (g)  Timepoint  \\\n",
       "909     g989     Propriva  Female          21          26          0   \n",
       "\n",
       "     Tumor Volume (mm3)  Metastatic Sites  \n",
       "909                45.0                 0  "
      ]
     },
     "execution_count": 4,
     "metadata": {},
     "output_type": "execute_result"
    }
   ],
   "source": [
    "# Optional: Get all the data for the duplicate mouse ID. \n",
    "duplicateRows_DF = combined_df[combined_df.duplicated()]\n",
    "duplicateRows_DF"
   ]
  },
  {
   "cell_type": "code",
   "execution_count": 5,
   "metadata": {},
   "outputs": [],
   "source": [
    "# Create a clean DataFrame by dropping the duplicate mouse by its ID.\n",
    "clean_combined_df = combined_df.drop_duplicates(keep='first',inplace=False)"
   ]
  },
  {
   "cell_type": "code",
   "execution_count": 6,
   "metadata": {},
   "outputs": [
    {
     "data": {
      "text/plain": [
       "1892"
      ]
     },
     "execution_count": 6,
     "metadata": {},
     "output_type": "execute_result"
    }
   ],
   "source": [
    "# Checking the number of mice in the clean DataFrame.\n",
    "len(clean_combined_df['Mouse ID'])"
   ]
  },
  {
   "cell_type": "markdown",
   "metadata": {},
   "source": [
    "## Summary Statistics"
   ]
  },
  {
   "cell_type": "code",
   "execution_count": 7,
   "metadata": {
    "scrolled": true
   },
   "outputs": [
    {
     "data": {
      "text/html": [
       "<style  type=\"text/css\" >\n",
       "</style><table id=\"T_1db39dd8_127c_11eb_8fff_abdc041582cf\" ><thead>    <tr>        <th class=\"blank level0\" ></th>        <th class=\"col_heading level0 col0\" >Drug Regimen</th>        <th class=\"col_heading level0 col1\" >Mean</th>        <th class=\"col_heading level0 col2\" >Median</th>        <th class=\"col_heading level0 col3\" >Mode</th>        <th class=\"col_heading level0 col4\" >Variance</th>        <th class=\"col_heading level0 col5\" >Standard Deviation</th>        <th class=\"col_heading level0 col6\" >SEM</th>    </tr></thead><tbody>\n",
       "                <tr>\n",
       "                        <th id=\"T_1db39dd8_127c_11eb_8fff_abdc041582cflevel0_row0\" class=\"row_heading level0 row0\" >0</th>\n",
       "                        <td id=\"T_1db39dd8_127c_11eb_8fff_abdc041582cfrow0_col0\" class=\"data row0 col0\" >Capomulin</td>\n",
       "                        <td id=\"T_1db39dd8_127c_11eb_8fff_abdc041582cfrow0_col1\" class=\"data row0 col1\" >40.68</td>\n",
       "                        <td id=\"T_1db39dd8_127c_11eb_8fff_abdc041582cfrow0_col2\" class=\"data row0 col2\" >41.56</td>\n",
       "                        <td id=\"T_1db39dd8_127c_11eb_8fff_abdc041582cfrow0_col3\" class=\"data row0 col3\" >ModeResult(mode=array([45.]), count=array([25]))</td>\n",
       "                        <td id=\"T_1db39dd8_127c_11eb_8fff_abdc041582cfrow0_col4\" class=\"data row0 col4\" >24.84</td>\n",
       "                        <td id=\"T_1db39dd8_127c_11eb_8fff_abdc041582cfrow0_col5\" class=\"data row0 col5\" >4.98</td>\n",
       "                        <td id=\"T_1db39dd8_127c_11eb_8fff_abdc041582cfrow0_col6\" class=\"data row0 col6\" >0.329346</td>\n",
       "            </tr>\n",
       "            <tr>\n",
       "                        <th id=\"T_1db39dd8_127c_11eb_8fff_abdc041582cflevel0_row1\" class=\"row_heading level0 row1\" >1</th>\n",
       "                        <td id=\"T_1db39dd8_127c_11eb_8fff_abdc041582cfrow1_col0\" class=\"data row1 col0\" >Ceftamin</td>\n",
       "                        <td id=\"T_1db39dd8_127c_11eb_8fff_abdc041582cfrow1_col1\" class=\"data row1 col1\" >52.59</td>\n",
       "                        <td id=\"T_1db39dd8_127c_11eb_8fff_abdc041582cfrow1_col2\" class=\"data row1 col2\" >51.78</td>\n",
       "                        <td id=\"T_1db39dd8_127c_11eb_8fff_abdc041582cfrow1_col3\" class=\"data row1 col3\" >ModeResult(mode=array([45.]), count=array([25]))</td>\n",
       "                        <td id=\"T_1db39dd8_127c_11eb_8fff_abdc041582cfrow1_col4\" class=\"data row1 col4\" >39.07</td>\n",
       "                        <td id=\"T_1db39dd8_127c_11eb_8fff_abdc041582cfrow1_col5\" class=\"data row1 col5\" >6.25</td>\n",
       "                        <td id=\"T_1db39dd8_127c_11eb_8fff_abdc041582cfrow1_col6\" class=\"data row1 col6\" >0.469821</td>\n",
       "            </tr>\n",
       "            <tr>\n",
       "                        <th id=\"T_1db39dd8_127c_11eb_8fff_abdc041582cflevel0_row2\" class=\"row_heading level0 row2\" >2</th>\n",
       "                        <td id=\"T_1db39dd8_127c_11eb_8fff_abdc041582cfrow2_col0\" class=\"data row2 col0\" >Infubinol</td>\n",
       "                        <td id=\"T_1db39dd8_127c_11eb_8fff_abdc041582cfrow2_col1\" class=\"data row2 col1\" >52.88</td>\n",
       "                        <td id=\"T_1db39dd8_127c_11eb_8fff_abdc041582cfrow2_col2\" class=\"data row2 col2\" >51.82</td>\n",
       "                        <td id=\"T_1db39dd8_127c_11eb_8fff_abdc041582cfrow2_col3\" class=\"data row2 col3\" >ModeResult(mode=array([45.]), count=array([25]))</td>\n",
       "                        <td id=\"T_1db39dd8_127c_11eb_8fff_abdc041582cfrow2_col4\" class=\"data row2 col4\" >42.89</td>\n",
       "                        <td id=\"T_1db39dd8_127c_11eb_8fff_abdc041582cfrow2_col5\" class=\"data row2 col5\" >6.55</td>\n",
       "                        <td id=\"T_1db39dd8_127c_11eb_8fff_abdc041582cfrow2_col6\" class=\"data row2 col6\" >0.492236</td>\n",
       "            </tr>\n",
       "            <tr>\n",
       "                        <th id=\"T_1db39dd8_127c_11eb_8fff_abdc041582cflevel0_row3\" class=\"row_heading level0 row3\" >3</th>\n",
       "                        <td id=\"T_1db39dd8_127c_11eb_8fff_abdc041582cfrow3_col0\" class=\"data row3 col0\" >Ketapril</td>\n",
       "                        <td id=\"T_1db39dd8_127c_11eb_8fff_abdc041582cfrow3_col1\" class=\"data row3 col1\" >55.24</td>\n",
       "                        <td id=\"T_1db39dd8_127c_11eb_8fff_abdc041582cfrow3_col2\" class=\"data row3 col2\" >53.70</td>\n",
       "                        <td id=\"T_1db39dd8_127c_11eb_8fff_abdc041582cfrow3_col3\" class=\"data row3 col3\" >ModeResult(mode=array([45.]), count=array([25]))</td>\n",
       "                        <td id=\"T_1db39dd8_127c_11eb_8fff_abdc041582cfrow3_col4\" class=\"data row3 col4\" >68.19</td>\n",
       "                        <td id=\"T_1db39dd8_127c_11eb_8fff_abdc041582cfrow3_col5\" class=\"data row3 col5\" >8.26</td>\n",
       "                        <td id=\"T_1db39dd8_127c_11eb_8fff_abdc041582cfrow3_col6\" class=\"data row3 col6\" >0.603860</td>\n",
       "            </tr>\n",
       "            <tr>\n",
       "                        <th id=\"T_1db39dd8_127c_11eb_8fff_abdc041582cflevel0_row4\" class=\"row_heading level0 row4\" >4</th>\n",
       "                        <td id=\"T_1db39dd8_127c_11eb_8fff_abdc041582cfrow4_col0\" class=\"data row4 col0\" >Naftisol</td>\n",
       "                        <td id=\"T_1db39dd8_127c_11eb_8fff_abdc041582cfrow4_col1\" class=\"data row4 col1\" >54.33</td>\n",
       "                        <td id=\"T_1db39dd8_127c_11eb_8fff_abdc041582cfrow4_col2\" class=\"data row4 col2\" >52.51</td>\n",
       "                        <td id=\"T_1db39dd8_127c_11eb_8fff_abdc041582cfrow4_col3\" class=\"data row4 col3\" >ModeResult(mode=array([45.]), count=array([25]))</td>\n",
       "                        <td id=\"T_1db39dd8_127c_11eb_8fff_abdc041582cfrow4_col4\" class=\"data row4 col4\" >65.82</td>\n",
       "                        <td id=\"T_1db39dd8_127c_11eb_8fff_abdc041582cfrow4_col5\" class=\"data row4 col5\" >8.11</td>\n",
       "                        <td id=\"T_1db39dd8_127c_11eb_8fff_abdc041582cfrow4_col6\" class=\"data row4 col6\" >0.596466</td>\n",
       "            </tr>\n",
       "            <tr>\n",
       "                        <th id=\"T_1db39dd8_127c_11eb_8fff_abdc041582cflevel0_row5\" class=\"row_heading level0 row5\" >5</th>\n",
       "                        <td id=\"T_1db39dd8_127c_11eb_8fff_abdc041582cfrow5_col0\" class=\"data row5 col0\" >Placebo</td>\n",
       "                        <td id=\"T_1db39dd8_127c_11eb_8fff_abdc041582cfrow5_col1\" class=\"data row5 col1\" >54.03</td>\n",
       "                        <td id=\"T_1db39dd8_127c_11eb_8fff_abdc041582cfrow5_col2\" class=\"data row5 col2\" >52.29</td>\n",
       "                        <td id=\"T_1db39dd8_127c_11eb_8fff_abdc041582cfrow5_col3\" class=\"data row5 col3\" >ModeResult(mode=array([45.]), count=array([25]))</td>\n",
       "                        <td id=\"T_1db39dd8_127c_11eb_8fff_abdc041582cfrow5_col4\" class=\"data row5 col4\" >60.83</td>\n",
       "                        <td id=\"T_1db39dd8_127c_11eb_8fff_abdc041582cfrow5_col5\" class=\"data row5 col5\" >7.80</td>\n",
       "                        <td id=\"T_1db39dd8_127c_11eb_8fff_abdc041582cfrow5_col6\" class=\"data row5 col6\" >0.581331</td>\n",
       "            </tr>\n",
       "            <tr>\n",
       "                        <th id=\"T_1db39dd8_127c_11eb_8fff_abdc041582cflevel0_row6\" class=\"row_heading level0 row6\" >6</th>\n",
       "                        <td id=\"T_1db39dd8_127c_11eb_8fff_abdc041582cfrow6_col0\" class=\"data row6 col0\" >Propriva</td>\n",
       "                        <td id=\"T_1db39dd8_127c_11eb_8fff_abdc041582cfrow6_col1\" class=\"data row6 col1\" >52.37</td>\n",
       "                        <td id=\"T_1db39dd8_127c_11eb_8fff_abdc041582cfrow6_col2\" class=\"data row6 col2\" >50.91</td>\n",
       "                        <td id=\"T_1db39dd8_127c_11eb_8fff_abdc041582cfrow6_col3\" class=\"data row6 col3\" >ModeResult(mode=array([45.]), count=array([25]))</td>\n",
       "                        <td id=\"T_1db39dd8_127c_11eb_8fff_abdc041582cfrow6_col4\" class=\"data row6 col4\" >42.01</td>\n",
       "                        <td id=\"T_1db39dd8_127c_11eb_8fff_abdc041582cfrow6_col5\" class=\"data row6 col5\" >6.48</td>\n",
       "                        <td id=\"T_1db39dd8_127c_11eb_8fff_abdc041582cfrow6_col6\" class=\"data row6 col6\" >0.514041</td>\n",
       "            </tr>\n",
       "            <tr>\n",
       "                        <th id=\"T_1db39dd8_127c_11eb_8fff_abdc041582cflevel0_row7\" class=\"row_heading level0 row7\" >7</th>\n",
       "                        <td id=\"T_1db39dd8_127c_11eb_8fff_abdc041582cfrow7_col0\" class=\"data row7 col0\" >Ramicane</td>\n",
       "                        <td id=\"T_1db39dd8_127c_11eb_8fff_abdc041582cfrow7_col1\" class=\"data row7 col1\" >40.22</td>\n",
       "                        <td id=\"T_1db39dd8_127c_11eb_8fff_abdc041582cfrow7_col2\" class=\"data row7 col2\" >40.67</td>\n",
       "                        <td id=\"T_1db39dd8_127c_11eb_8fff_abdc041582cfrow7_col3\" class=\"data row7 col3\" >ModeResult(mode=array([45.]), count=array([25]))</td>\n",
       "                        <td id=\"T_1db39dd8_127c_11eb_8fff_abdc041582cfrow7_col4\" class=\"data row7 col4\" >23.38</td>\n",
       "                        <td id=\"T_1db39dd8_127c_11eb_8fff_abdc041582cfrow7_col5\" class=\"data row7 col5\" >4.84</td>\n",
       "                        <td id=\"T_1db39dd8_127c_11eb_8fff_abdc041582cfrow7_col6\" class=\"data row7 col6\" >0.320955</td>\n",
       "            </tr>\n",
       "            <tr>\n",
       "                        <th id=\"T_1db39dd8_127c_11eb_8fff_abdc041582cflevel0_row8\" class=\"row_heading level0 row8\" >8</th>\n",
       "                        <td id=\"T_1db39dd8_127c_11eb_8fff_abdc041582cfrow8_col0\" class=\"data row8 col0\" >Stelasyn</td>\n",
       "                        <td id=\"T_1db39dd8_127c_11eb_8fff_abdc041582cfrow8_col1\" class=\"data row8 col1\" >54.23</td>\n",
       "                        <td id=\"T_1db39dd8_127c_11eb_8fff_abdc041582cfrow8_col2\" class=\"data row8 col2\" >52.43</td>\n",
       "                        <td id=\"T_1db39dd8_127c_11eb_8fff_abdc041582cfrow8_col3\" class=\"data row8 col3\" >ModeResult(mode=array([45.]), count=array([24]))</td>\n",
       "                        <td id=\"T_1db39dd8_127c_11eb_8fff_abdc041582cfrow8_col4\" class=\"data row8 col4\" >59.12</td>\n",
       "                        <td id=\"T_1db39dd8_127c_11eb_8fff_abdc041582cfrow8_col5\" class=\"data row8 col5\" >7.69</td>\n",
       "                        <td id=\"T_1db39dd8_127c_11eb_8fff_abdc041582cfrow8_col6\" class=\"data row8 col6\" >0.573111</td>\n",
       "            </tr>\n",
       "            <tr>\n",
       "                        <th id=\"T_1db39dd8_127c_11eb_8fff_abdc041582cflevel0_row9\" class=\"row_heading level0 row9\" >9</th>\n",
       "                        <td id=\"T_1db39dd8_127c_11eb_8fff_abdc041582cfrow9_col0\" class=\"data row9 col0\" >Zoniferol</td>\n",
       "                        <td id=\"T_1db39dd8_127c_11eb_8fff_abdc041582cfrow9_col1\" class=\"data row9 col1\" >53.24</td>\n",
       "                        <td id=\"T_1db39dd8_127c_11eb_8fff_abdc041582cfrow9_col2\" class=\"data row9 col2\" >51.82</td>\n",
       "                        <td id=\"T_1db39dd8_127c_11eb_8fff_abdc041582cfrow9_col3\" class=\"data row9 col3\" >ModeResult(mode=array([45.]), count=array([25]))</td>\n",
       "                        <td id=\"T_1db39dd8_127c_11eb_8fff_abdc041582cfrow9_col4\" class=\"data row9 col4\" >48.27</td>\n",
       "                        <td id=\"T_1db39dd8_127c_11eb_8fff_abdc041582cfrow9_col5\" class=\"data row9 col5\" >6.95</td>\n",
       "                        <td id=\"T_1db39dd8_127c_11eb_8fff_abdc041582cfrow9_col6\" class=\"data row9 col6\" >0.516398</td>\n",
       "            </tr>\n",
       "    </tbody></table>"
      ],
      "text/plain": [
       "<pandas.io.formats.style.Styler at 0x1e05d4c6340>"
      ]
     },
     "execution_count": 7,
     "metadata": {},
     "output_type": "execute_result"
    }
   ],
   "source": [
    "# Generate a summary statistics table of mean, median, variance, standard deviation, and SEM of the tumor volume for each regimen\n",
    "drug_regimen_group = clean_combined_df.groupby('Drug Regimen')\n",
    "mean_drugs = drug_regimen_group['Tumor Volume (mm3)'].mean()\n",
    "\n",
    "drug_list = ['Capomulin', 'Ceftamin', 'Infubinol', 'Ketapril', 'Naftisol', 'Placebo', 'Propriva', 'Ramicane', 'Stelasyn', 'Zoniferol']\n",
    "\n",
    "# All data for each drug regimen\n",
    "d1 = clean_combined_df[clean_combined_df['Drug Regimen'].str.contains(\"Capomulin\")]\n",
    "d2 = clean_combined_df[clean_combined_df['Drug Regimen'].str.contains(\"Ceftamin\")]\n",
    "d3 = clean_combined_df[clean_combined_df['Drug Regimen'].str.contains(\"Infubinol\")]\n",
    "d4 = clean_combined_df[clean_combined_df['Drug Regimen'].str.contains(\"Ketapril\")]\n",
    "d5 = clean_combined_df[clean_combined_df['Drug Regimen'].str.contains(\"Naftisol\")]\n",
    "d6 = clean_combined_df[clean_combined_df['Drug Regimen'].str.contains(\"Placebo\")]\n",
    "d7 = clean_combined_df[clean_combined_df['Drug Regimen'].str.contains(\"Propriva\")]\n",
    "d8 = clean_combined_df[clean_combined_df['Drug Regimen'].str.contains(\"Ramicane\")]\n",
    "d9 = clean_combined_df[clean_combined_df['Drug Regimen'].str.contains(\"Stelasyn\")]\n",
    "d10 = clean_combined_df[clean_combined_df['Drug Regimen'].str.contains(\"Zoniferol\")]\n",
    "\n",
    "# All tumor volumes for each drug regimen\n",
    "d1_vol = d1['Tumor Volume (mm3)']\n",
    "d2_vol = d2['Tumor Volume (mm3)']\n",
    "d3_vol = d3['Tumor Volume (mm3)']\n",
    "d4_vol = d4['Tumor Volume (mm3)']\n",
    "d5_vol = d5['Tumor Volume (mm3)']\n",
    "d6_vol = d6['Tumor Volume (mm3)']\n",
    "d7_vol = d7['Tumor Volume (mm3)']\n",
    "d8_vol = d8['Tumor Volume (mm3)']\n",
    "d9_vol = d9['Tumor Volume (mm3)']\n",
    "d10_vol = d10['Tumor Volume (mm3)']\n",
    "\n",
    "# All mean tumor volumes for each drug regimen\n",
    "mean_d1_vol = np.mean(d1_vol)\n",
    "mean_d2_vol = np.mean(d2_vol)\n",
    "mean_d3_vol = np.mean(d3_vol)\n",
    "mean_d4_vol = np.mean(d4_vol)\n",
    "mean_d5_vol = np.mean(d5_vol)\n",
    "mean_d6_vol = np.mean(d6_vol)\n",
    "mean_d7_vol = np.mean(d7_vol)\n",
    "mean_d8_vol = np.mean(d8_vol)\n",
    "mean_d9_vol = np.mean(d9_vol)\n",
    "mean_d10_vol = np.mean(d10_vol)\n",
    "\n",
    "# All median tumor volumes for each drug regimen\n",
    "median_d1_vol = np.median(d1_vol)\n",
    "median_d2_vol = np.median(d2_vol)\n",
    "median_d3_vol = np.median(d3_vol)\n",
    "median_d4_vol = np.median(d4_vol)\n",
    "median_d5_vol = np.median(d5_vol)\n",
    "median_d6_vol = np.median(d6_vol)\n",
    "median_d7_vol = np.median(d7_vol)\n",
    "median_d8_vol = np.median(d8_vol)\n",
    "median_d9_vol = np.median(d9_vol)\n",
    "median_d10_vol = np.median(d10_vol)\n",
    "\n",
    "# All mode tumor volumes for each drug regimen\n",
    "mode_d1_vol = st.mode(d1_vol)\n",
    "mode_d2_vol = st.mode(d2_vol)\n",
    "mode_d3_vol = st.mode(d3_vol)\n",
    "mode_d4_vol = st.mode(d4_vol)\n",
    "mode_d5_vol = st.mode(d5_vol)\n",
    "mode_d6_vol = st.mode(d6_vol)\n",
    "mode_d7_vol = st.mode(d7_vol)\n",
    "mode_d8_vol = st.mode(d8_vol)\n",
    "mode_d9_vol = st.mode(d9_vol)\n",
    "mode_d10_vol = st.mode(d10_vol)\n",
    "\n",
    "# All variance tumor volumes for each drug regimen\n",
    "var_d1_vol = np.var(d1_vol,ddof = 0)\n",
    "var_d2_vol = np.var(d2_vol,ddof = 0)\n",
    "var_d3_vol = np.var(d3_vol,ddof = 0)\n",
    "var_d4_vol = np.var(d4_vol,ddof = 0)\n",
    "var_d5_vol = np.var(d5_vol,ddof = 0)\n",
    "var_d6_vol = np.var(d6_vol,ddof = 0)\n",
    "var_d7_vol = np.var(d7_vol,ddof = 0)\n",
    "var_d8_vol = np.var(d8_vol,ddof = 0)\n",
    "var_d9_vol = np.var(d9_vol,ddof = 0)\n",
    "var_d10_vol = np.var(d10_vol,ddof = 0)\n",
    "\n",
    "# All standard deviations tumor volumes for each drug regimen\n",
    "std_d1_vol = np.std(d1_vol,ddof = 0)\n",
    "std_d2_vol = np.std(d2_vol,ddof = 0)\n",
    "std_d3_vol = np.std(d3_vol,ddof = 0)\n",
    "std_d4_vol = np.std(d4_vol,ddof = 0)\n",
    "std_d5_vol = np.std(d5_vol,ddof = 0)\n",
    "std_d6_vol = np.std(d6_vol,ddof = 0)\n",
    "std_d7_vol = np.std(d7_vol,ddof = 0)\n",
    "std_d8_vol = np.std(d8_vol,ddof = 0)\n",
    "std_d9_vol = np.std(d9_vol,ddof = 0)\n",
    "std_d10_vol = np.std(d10_vol,ddof = 0)\n",
    "\n",
    "# All SEM tumor volumes for each drug regimen\n",
    "sem_d1_vol = sem(d1_vol)\n",
    "sem_d2_vol = sem(d2_vol)\n",
    "sem_d3_vol = sem(d3_vol)\n",
    "sem_d4_vol = sem(d4_vol)\n",
    "sem_d5_vol = sem(d5_vol)\n",
    "sem_d6_vol = sem(d6_vol)\n",
    "sem_d7_vol = sem(d7_vol)\n",
    "sem_d8_vol = sem(d8_vol)\n",
    "sem_d9_vol = sem(d9_vol)\n",
    "sem_d10_vol = sem(d10_vol)\n",
    "\n",
    "\n",
    "drug_regimen_group['Tumor Volume (mm3)'].mean()\n",
    "mean_drugs\n",
    "# This method is the most straighforward, creating multiple series and putting them all together at the end.\n",
    "summary_statistics = pd.DataFrame({'Drug Regimen': drug_list,\n",
    "                                   'Mean': [mean_d1_vol, mean_d2_vol, mean_d3_vol, mean_d4_vol, mean_d5_vol, mean_d6_vol, mean_d7_vol, mean_d8_vol, mean_d9_vol, mean_d10_vol],\n",
    "                                   'Median': [median_d1_vol, median_d2_vol, median_d3_vol, median_d4_vol, median_d5_vol, median_d6_vol, median_d7_vol, median_d8_vol, median_d9_vol, median_d10_vol],\n",
    "                                   'Mode': [mode_d1_vol, mode_d2_vol, mode_d3_vol, mode_d4_vol, mode_d5_vol, mode_d6_vol, mode_d7_vol, mode_d8_vol, mode_d9_vol, mode_d10_vol],\n",
    "                                   'Variance': [var_d1_vol, var_d2_vol, var_d3_vol, var_d4_vol, var_d5_vol, var_d6_vol, var_d7_vol, var_d8_vol, var_d9_vol, var_d10_vol],\n",
    "                                   'Standard Deviation': [std_d1_vol, std_d2_vol, std_d3_vol, std_d4_vol, std_d5_vol, std_d6_vol, std_d7_vol, std_d8_vol, std_d9_vol, std_d10_vol],\n",
    "                                   'SEM': [sem_d1_vol, sem_d2_vol, sem_d3_vol, sem_d4_vol, sem_d5_vol, sem_d6_vol, sem_d7_vol, sem_d8_vol, sem_d9_vol, sem_d10_vol]})\n",
    "summary_statistics.style.format({'Mean':'{0:,.2f}','Median':'{0:,.2f}','Variance':'{0:,.2f}','Standard Deviation':'{0:,.2f}'})"
   ]
  },
  {
   "cell_type": "code",
   "execution_count": 8,
   "metadata": {},
   "outputs": [
    {
     "data": {
      "text/html": [
       "<style  type=\"text/css\" >\n",
       "</style><table id=\"T_1db68c61_127c_11eb_904d_abdc041582cf\" ><thead>    <tr>        <th class=\"blank level0\" ></th>        <th class=\"col_heading level0 col0\" >mean</th>        <th class=\"col_heading level0 col1\" >median</th>        <th class=\"col_heading level0 col2\" >var</th>        <th class=\"col_heading level0 col3\" >std</th>        <th class=\"col_heading level0 col4\" >sem</th>    </tr>    <tr>        <th class=\"index_name level0\" >Drug Regimen</th>        <th class=\"blank\" ></th>        <th class=\"blank\" ></th>        <th class=\"blank\" ></th>        <th class=\"blank\" ></th>        <th class=\"blank\" ></th>    </tr></thead><tbody>\n",
       "                <tr>\n",
       "                        <th id=\"T_1db68c61_127c_11eb_904d_abdc041582cflevel0_row0\" class=\"row_heading level0 row0\" >Capomulin</th>\n",
       "                        <td id=\"T_1db68c61_127c_11eb_904d_abdc041582cfrow0_col0\" class=\"data row0 col0\" >40.68</td>\n",
       "                        <td id=\"T_1db68c61_127c_11eb_904d_abdc041582cfrow0_col1\" class=\"data row0 col1\" >41.56</td>\n",
       "                        <td id=\"T_1db68c61_127c_11eb_904d_abdc041582cfrow0_col2\" class=\"data row0 col2\" >24.95</td>\n",
       "                        <td id=\"T_1db68c61_127c_11eb_904d_abdc041582cfrow0_col3\" class=\"data row0 col3\" >4.99</td>\n",
       "                        <td id=\"T_1db68c61_127c_11eb_904d_abdc041582cfrow0_col4\" class=\"data row0 col4\" >0.329346</td>\n",
       "            </tr>\n",
       "            <tr>\n",
       "                        <th id=\"T_1db68c61_127c_11eb_904d_abdc041582cflevel0_row1\" class=\"row_heading level0 row1\" >Ceftamin</th>\n",
       "                        <td id=\"T_1db68c61_127c_11eb_904d_abdc041582cfrow1_col0\" class=\"data row1 col0\" >52.59</td>\n",
       "                        <td id=\"T_1db68c61_127c_11eb_904d_abdc041582cfrow1_col1\" class=\"data row1 col1\" >51.78</td>\n",
       "                        <td id=\"T_1db68c61_127c_11eb_904d_abdc041582cfrow1_col2\" class=\"data row1 col2\" >39.29</td>\n",
       "                        <td id=\"T_1db68c61_127c_11eb_904d_abdc041582cfrow1_col3\" class=\"data row1 col3\" >6.27</td>\n",
       "                        <td id=\"T_1db68c61_127c_11eb_904d_abdc041582cfrow1_col4\" class=\"data row1 col4\" >0.469821</td>\n",
       "            </tr>\n",
       "            <tr>\n",
       "                        <th id=\"T_1db68c61_127c_11eb_904d_abdc041582cflevel0_row2\" class=\"row_heading level0 row2\" >Infubinol</th>\n",
       "                        <td id=\"T_1db68c61_127c_11eb_904d_abdc041582cfrow2_col0\" class=\"data row2 col0\" >52.88</td>\n",
       "                        <td id=\"T_1db68c61_127c_11eb_904d_abdc041582cfrow2_col1\" class=\"data row2 col1\" >51.82</td>\n",
       "                        <td id=\"T_1db68c61_127c_11eb_904d_abdc041582cfrow2_col2\" class=\"data row2 col2\" >43.13</td>\n",
       "                        <td id=\"T_1db68c61_127c_11eb_904d_abdc041582cfrow2_col3\" class=\"data row2 col3\" >6.57</td>\n",
       "                        <td id=\"T_1db68c61_127c_11eb_904d_abdc041582cfrow2_col4\" class=\"data row2 col4\" >0.492236</td>\n",
       "            </tr>\n",
       "            <tr>\n",
       "                        <th id=\"T_1db68c61_127c_11eb_904d_abdc041582cflevel0_row3\" class=\"row_heading level0 row3\" >Ketapril</th>\n",
       "                        <td id=\"T_1db68c61_127c_11eb_904d_abdc041582cfrow3_col0\" class=\"data row3 col0\" >55.24</td>\n",
       "                        <td id=\"T_1db68c61_127c_11eb_904d_abdc041582cfrow3_col1\" class=\"data row3 col1\" >53.70</td>\n",
       "                        <td id=\"T_1db68c61_127c_11eb_904d_abdc041582cfrow3_col2\" class=\"data row3 col2\" >68.55</td>\n",
       "                        <td id=\"T_1db68c61_127c_11eb_904d_abdc041582cfrow3_col3\" class=\"data row3 col3\" >8.28</td>\n",
       "                        <td id=\"T_1db68c61_127c_11eb_904d_abdc041582cfrow3_col4\" class=\"data row3 col4\" >0.603860</td>\n",
       "            </tr>\n",
       "            <tr>\n",
       "                        <th id=\"T_1db68c61_127c_11eb_904d_abdc041582cflevel0_row4\" class=\"row_heading level0 row4\" >Naftisol</th>\n",
       "                        <td id=\"T_1db68c61_127c_11eb_904d_abdc041582cfrow4_col0\" class=\"data row4 col0\" >54.33</td>\n",
       "                        <td id=\"T_1db68c61_127c_11eb_904d_abdc041582cfrow4_col1\" class=\"data row4 col1\" >52.51</td>\n",
       "                        <td id=\"T_1db68c61_127c_11eb_904d_abdc041582cfrow4_col2\" class=\"data row4 col2\" >66.17</td>\n",
       "                        <td id=\"T_1db68c61_127c_11eb_904d_abdc041582cfrow4_col3\" class=\"data row4 col3\" >8.13</td>\n",
       "                        <td id=\"T_1db68c61_127c_11eb_904d_abdc041582cfrow4_col4\" class=\"data row4 col4\" >0.596466</td>\n",
       "            </tr>\n",
       "            <tr>\n",
       "                        <th id=\"T_1db68c61_127c_11eb_904d_abdc041582cflevel0_row5\" class=\"row_heading level0 row5\" >Placebo</th>\n",
       "                        <td id=\"T_1db68c61_127c_11eb_904d_abdc041582cfrow5_col0\" class=\"data row5 col0\" >54.03</td>\n",
       "                        <td id=\"T_1db68c61_127c_11eb_904d_abdc041582cfrow5_col1\" class=\"data row5 col1\" >52.29</td>\n",
       "                        <td id=\"T_1db68c61_127c_11eb_904d_abdc041582cfrow5_col2\" class=\"data row5 col2\" >61.17</td>\n",
       "                        <td id=\"T_1db68c61_127c_11eb_904d_abdc041582cfrow5_col3\" class=\"data row5 col3\" >7.82</td>\n",
       "                        <td id=\"T_1db68c61_127c_11eb_904d_abdc041582cfrow5_col4\" class=\"data row5 col4\" >0.581331</td>\n",
       "            </tr>\n",
       "            <tr>\n",
       "                        <th id=\"T_1db68c61_127c_11eb_904d_abdc041582cflevel0_row6\" class=\"row_heading level0 row6\" >Propriva</th>\n",
       "                        <td id=\"T_1db68c61_127c_11eb_904d_abdc041582cfrow6_col0\" class=\"data row6 col0\" >52.37</td>\n",
       "                        <td id=\"T_1db68c61_127c_11eb_904d_abdc041582cfrow6_col1\" class=\"data row6 col1\" >50.91</td>\n",
       "                        <td id=\"T_1db68c61_127c_11eb_904d_abdc041582cfrow6_col2\" class=\"data row6 col2\" >42.28</td>\n",
       "                        <td id=\"T_1db68c61_127c_11eb_904d_abdc041582cfrow6_col3\" class=\"data row6 col3\" >6.50</td>\n",
       "                        <td id=\"T_1db68c61_127c_11eb_904d_abdc041582cfrow6_col4\" class=\"data row6 col4\" >0.514041</td>\n",
       "            </tr>\n",
       "            <tr>\n",
       "                        <th id=\"T_1db68c61_127c_11eb_904d_abdc041582cflevel0_row7\" class=\"row_heading level0 row7\" >Ramicane</th>\n",
       "                        <td id=\"T_1db68c61_127c_11eb_904d_abdc041582cfrow7_col0\" class=\"data row7 col0\" >40.22</td>\n",
       "                        <td id=\"T_1db68c61_127c_11eb_904d_abdc041582cfrow7_col1\" class=\"data row7 col1\" >40.67</td>\n",
       "                        <td id=\"T_1db68c61_127c_11eb_904d_abdc041582cfrow7_col2\" class=\"data row7 col2\" >23.49</td>\n",
       "                        <td id=\"T_1db68c61_127c_11eb_904d_abdc041582cfrow7_col3\" class=\"data row7 col3\" >4.85</td>\n",
       "                        <td id=\"T_1db68c61_127c_11eb_904d_abdc041582cfrow7_col4\" class=\"data row7 col4\" >0.320955</td>\n",
       "            </tr>\n",
       "            <tr>\n",
       "                        <th id=\"T_1db68c61_127c_11eb_904d_abdc041582cflevel0_row8\" class=\"row_heading level0 row8\" >Stelasyn</th>\n",
       "                        <td id=\"T_1db68c61_127c_11eb_904d_abdc041582cfrow8_col0\" class=\"data row8 col0\" >54.23</td>\n",
       "                        <td id=\"T_1db68c61_127c_11eb_904d_abdc041582cfrow8_col1\" class=\"data row8 col1\" >52.43</td>\n",
       "                        <td id=\"T_1db68c61_127c_11eb_904d_abdc041582cfrow8_col2\" class=\"data row8 col2\" >59.45</td>\n",
       "                        <td id=\"T_1db68c61_127c_11eb_904d_abdc041582cfrow8_col3\" class=\"data row8 col3\" >7.71</td>\n",
       "                        <td id=\"T_1db68c61_127c_11eb_904d_abdc041582cfrow8_col4\" class=\"data row8 col4\" >0.573111</td>\n",
       "            </tr>\n",
       "            <tr>\n",
       "                        <th id=\"T_1db68c61_127c_11eb_904d_abdc041582cflevel0_row9\" class=\"row_heading level0 row9\" >Zoniferol</th>\n",
       "                        <td id=\"T_1db68c61_127c_11eb_904d_abdc041582cfrow9_col0\" class=\"data row9 col0\" >53.24</td>\n",
       "                        <td id=\"T_1db68c61_127c_11eb_904d_abdc041582cfrow9_col1\" class=\"data row9 col1\" >51.82</td>\n",
       "                        <td id=\"T_1db68c61_127c_11eb_904d_abdc041582cfrow9_col2\" class=\"data row9 col2\" >48.53</td>\n",
       "                        <td id=\"T_1db68c61_127c_11eb_904d_abdc041582cfrow9_col3\" class=\"data row9 col3\" >6.97</td>\n",
       "                        <td id=\"T_1db68c61_127c_11eb_904d_abdc041582cfrow9_col4\" class=\"data row9 col4\" >0.516398</td>\n",
       "            </tr>\n",
       "    </tbody></table>"
      ],
      "text/plain": [
       "<pandas.io.formats.style.Styler at 0x1e058aba9a0>"
      ]
     },
     "execution_count": 8,
     "metadata": {},
     "output_type": "execute_result"
    }
   ],
   "source": [
    "# Generate a summary statistics table of mean, median, variance, standard deviation, and SEM of the tumor volume for each regimen\n",
    "drug_regimen_group = clean_combined_df.groupby('Drug Regimen')\n",
    "drug_regimen_group['Tumor Volume (mm3)'].agg(['mean', 'median', 'var', 'std', sem]).style.format({'mean':'{0:,.2f}','median':'{0:,.2f}','var':'{0:,.2f}','std':'{0:,.2f}'})\n",
    "\n",
    "\n",
    "# This method produces everything in a single groupby function\n"
   ]
  },
  {
   "cell_type": "markdown",
   "metadata": {},
   "source": [
    "## Bar and Pie Charts"
   ]
  },
  {
   "cell_type": "code",
   "execution_count": 9,
   "metadata": {},
   "outputs": [
    {
     "data": {
      "text/plain": [
       "<matplotlib.axes._subplots.AxesSubplot at 0x1e05d957be0>"
      ]
     },
     "execution_count": 9,
     "metadata": {},
     "output_type": "execute_result"
    },
    {
     "data": {
      "image/png": "[encoded data removed]",
      "text/plain": [
       "<Figure size 432x288 with 1 Axes>"
      ]
     },
     "metadata": {
      "needs_background": "light"
     },
     "output_type": "display_data"
    }
   ],
   "source": [
    "# Generate a bar plot showing the total number of mice for each treatment throughout the course of the study using pandas. \n",
    "drug_regimen_group = clean_combined_df.groupby('Drug Regimen')\n",
    "count = drug_regimen_group['Mouse ID'].count()\n",
    "count.plot(kind = 'bar', rot = 45, color = 'purple', grid = 'on', title = 'Total Number of Mice per Treatment')"
   ]
  },
  {
   "cell_type": "code",
   "execution_count": 10,
   "metadata": {},
   "outputs": [
    {
     "data": {
      "image/png": "[encoded data removed]",
      "text/plain": [
       "<Figure size 432x288 with 1 Axes>"
      ]
     },
     "metadata": {
      "needs_background": "light"
     },
     "output_type": "display_data"
    }
   ],
   "source": [
    "# Generate a bar plot showing the total number of mice for each treatment throughout the course of the study using pyplot.\n",
    "plt.bar(drug_list,count, color = 'purple')\n",
    "plt.title('Total Number of Mice per Treatment')\n",
    "plt.xticks(rotation = 45)\n",
    "plt.grid('on')"
   ]
  },
  {
   "cell_type": "code",
   "execution_count": 11,
   "metadata": {},
   "outputs": [
    {
     "data": {
      "text/plain": [
       "<matplotlib.axes._subplots.AxesSubplot at 0x1e05e12b640>"
      ]
     },
     "execution_count": 11,
     "metadata": {},
     "output_type": "execute_result"
    },
    {
     "data": {
      "image/png": "[encoded data removed]",
      "text/plain": [
       "<Figure size 360x360 with 1 Axes>"
      ]
     },
     "metadata": {},
     "output_type": "display_data"
    }
   ],
   "source": [
    "# Generate a pie plot showing the distribution of female versus male mice using pandas\n",
    "male_female = clean_combined_df.groupby('Sex')\n",
    "count_mf = male_female['Mouse ID'].count()\n",
    "\n",
    "count_mf.plot(kind = 'pie',startangle=90, title = 'Female vs. Male Distribution',\n",
    "              autopct=\"%1.1f%%\", colors = [\"pink\",\"lightblue\"], shadow=True, label = \" \",\n",
    "             figsize=(5,5))\n"
   ]
  },
  {
   "cell_type": "code",
   "execution_count": 12,
   "metadata": {},
   "outputs": [
    {
     "data": {
      "text/plain": [
       "(-1.1053883987155488,\n",
       " 1.1028246547483551,\n",
       " -1.1047298923432014,\n",
       " 1.1002252329687239)"
      ]
     },
     "execution_count": 12,
     "metadata": {},
     "output_type": "execute_result"
    },
    {
     "data": {
      "image/png": "[encoded data removed]",
      "text/plain": [
       "<Figure size 432x288 with 1 Axes>"
      ]
     },
     "metadata": {},
     "output_type": "display_data"
    }
   ],
   "source": [
    "# Generate a pie plot showing the distribution of female versus male mice using pyplot\n",
    "colors = [\"pink\",\"lightblue\"]\n",
    "explode = (0,0)\n",
    "\n",
    "plt.pie(count_mf, explode=explode, labels= ['Female','Male'], colors=colors, autopct=\"%1.1f%%\", shadow=True, startangle=90)\n",
    "plt.title('Female vs. Male Distribution')\n",
    "plt.axis(\"equal\")\n"
   ]
  },
  {
   "cell_type": "markdown",
   "metadata": {},
   "source": [
    "## Quartiles, Outliers and Boxplots"
   ]
  },
  {
   "cell_type": "code",
   "execution_count": 13,
   "metadata": {
    "scrolled": true
   },
   "outputs": [
    {
     "name": "stderr",
     "output_type": "stream",
     "text": [
      "<ipython-input-13-1ac4c9950481>:12: SettingWithCopyWarning: \n",
      "A value is trying to be set on a copy of a slice from a DataFrame.\n",
      "Try using .loc[row_indexer,col_indexer] = value instead\n",
      "\n",
      "See the caveats in the documentation: https://pandas.pydata.org/pandas-docs/stable/user_guide/indexing.html#returning-a-view-versus-a-copy\n",
      "  clean_combined_df_with_final_vol['Final Tumor Volume (mm3)'] = mouse_final_tumor_vol['Tumor Volume (mm3)']\n",
      "<ipython-input-13-1ac4c9950481>:16: SettingWithCopyWarning: \n",
      "A value is trying to be set on a copy of a slice from a DataFrame.\n",
      "Try using .loc[row_indexer,col_indexer] = value instead\n",
      "\n",
      "See the caveats in the documentation: https://pandas.pydata.org/pandas-docs/stable/user_guide/indexing.html#returning-a-view-versus-a-copy\n",
      "  mouse_final_tumor_vol['Final Tumor Volume (mm3)'] = mouse_final_tumor_vol['Tumor Volume (mm3)']\n"
     ]
    },
    {
     "data": {
      "text/html": [
       "<div>\n",
       "<style scoped>\n",
       "    .dataframe tbody tr th:only-of-type {\n",
       "        vertical-align: middle;\n",
       "    }\n",
       "\n",
       "    .dataframe tbody tr th {\n",
       "        vertical-align: top;\n",
       "    }\n",
       "\n",
       "    .dataframe thead th {\n",
       "        text-align: right;\n",
       "    }\n",
       "</style>\n",
       "<table border=\"1\" class=\"dataframe\">\n",
       "  <thead>\n",
       "    <tr style=\"text-align: right;\">\n",
       "      <th></th>\n",
       "      <th>Mouse ID</th>\n",
       "      <th>Drug Regimen</th>\n",
       "      <th>Sex</th>\n",
       "      <th>Age_months</th>\n",
       "      <th>Weight (g)</th>\n",
       "      <th>Timepoint</th>\n",
       "      <th>Tumor Volume (mm3)</th>\n",
       "      <th>Metastatic Sites</th>\n",
       "      <th>Final Tumor Volume (mm3)</th>\n",
       "    </tr>\n",
       "  </thead>\n",
       "  <tbody>\n",
       "    <tr>\n",
       "      <th>9</th>\n",
       "      <td>k403</td>\n",
       "      <td>Ramicane</td>\n",
       "      <td>Male</td>\n",
       "      <td>21</td>\n",
       "      <td>16</td>\n",
       "      <td>45</td>\n",
       "      <td>22.050126</td>\n",
       "      <td>1</td>\n",
       "      <td>22.050126</td>\n",
       "    </tr>\n",
       "    <tr>\n",
       "      <th>19</th>\n",
       "      <td>s185</td>\n",
       "      <td>Capomulin</td>\n",
       "      <td>Female</td>\n",
       "      <td>3</td>\n",
       "      <td>17</td>\n",
       "      <td>45</td>\n",
       "      <td>23.343598</td>\n",
       "      <td>1</td>\n",
       "      <td>23.343598</td>\n",
       "    </tr>\n",
       "    <tr>\n",
       "      <th>29</th>\n",
       "      <td>x401</td>\n",
       "      <td>Capomulin</td>\n",
       "      <td>Female</td>\n",
       "      <td>16</td>\n",
       "      <td>15</td>\n",
       "      <td>45</td>\n",
       "      <td>28.484033</td>\n",
       "      <td>0</td>\n",
       "      <td>28.484033</td>\n",
       "    </tr>\n",
       "    <tr>\n",
       "      <th>39</th>\n",
       "      <td>m601</td>\n",
       "      <td>Capomulin</td>\n",
       "      <td>Male</td>\n",
       "      <td>22</td>\n",
       "      <td>17</td>\n",
       "      <td>45</td>\n",
       "      <td>28.430964</td>\n",
       "      <td>1</td>\n",
       "      <td>28.430964</td>\n",
       "    </tr>\n",
       "    <tr>\n",
       "      <th>49</th>\n",
       "      <td>g791</td>\n",
       "      <td>Ramicane</td>\n",
       "      <td>Male</td>\n",
       "      <td>11</td>\n",
       "      <td>16</td>\n",
       "      <td>45</td>\n",
       "      <td>29.128472</td>\n",
       "      <td>1</td>\n",
       "      <td>29.128472</td>\n",
       "    </tr>\n",
       "    <tr>\n",
       "      <th>...</th>\n",
       "      <td>...</td>\n",
       "      <td>...</td>\n",
       "      <td>...</td>\n",
       "      <td>...</td>\n",
       "      <td>...</td>\n",
       "      <td>...</td>\n",
       "      <td>...</td>\n",
       "      <td>...</td>\n",
       "      <td>...</td>\n",
       "    </tr>\n",
       "    <tr>\n",
       "      <th>1859</th>\n",
       "      <td>z314</td>\n",
       "      <td>Stelasyn</td>\n",
       "      <td>Female</td>\n",
       "      <td>21</td>\n",
       "      <td>28</td>\n",
       "      <td>5</td>\n",
       "      <td>45.934712</td>\n",
       "      <td>0</td>\n",
       "      <td>45.934712</td>\n",
       "    </tr>\n",
       "    <tr>\n",
       "      <th>1862</th>\n",
       "      <td>z435</td>\n",
       "      <td>Propriva</td>\n",
       "      <td>Female</td>\n",
       "      <td>12</td>\n",
       "      <td>26</td>\n",
       "      <td>10</td>\n",
       "      <td>48.710661</td>\n",
       "      <td>0</td>\n",
       "      <td>48.710661</td>\n",
       "    </tr>\n",
       "    <tr>\n",
       "      <th>1872</th>\n",
       "      <td>z581</td>\n",
       "      <td>Infubinol</td>\n",
       "      <td>Female</td>\n",
       "      <td>24</td>\n",
       "      <td>25</td>\n",
       "      <td>45</td>\n",
       "      <td>62.754451</td>\n",
       "      <td>3</td>\n",
       "      <td>62.754451</td>\n",
       "    </tr>\n",
       "    <tr>\n",
       "      <th>1882</th>\n",
       "      <td>z795</td>\n",
       "      <td>Naftisol</td>\n",
       "      <td>Female</td>\n",
       "      <td>13</td>\n",
       "      <td>29</td>\n",
       "      <td>45</td>\n",
       "      <td>65.741070</td>\n",
       "      <td>3</td>\n",
       "      <td>65.741070</td>\n",
       "    </tr>\n",
       "    <tr>\n",
       "      <th>1892</th>\n",
       "      <td>z969</td>\n",
       "      <td>Naftisol</td>\n",
       "      <td>Male</td>\n",
       "      <td>9</td>\n",
       "      <td>30</td>\n",
       "      <td>45</td>\n",
       "      <td>73.867845</td>\n",
       "      <td>4</td>\n",
       "      <td>73.867845</td>\n",
       "    </tr>\n",
       "  </tbody>\n",
       "</table>\n",
       "<p>249 rows × 9 columns</p>\n",
       "</div>"
      ],
      "text/plain": [
       "     Mouse ID Drug Regimen     Sex  Age_months  Weight (g)  Timepoint  \\\n",
       "9        k403     Ramicane    Male          21          16         45   \n",
       "19       s185    Capomulin  Female           3          17         45   \n",
       "29       x401    Capomulin  Female          16          15         45   \n",
       "39       m601    Capomulin    Male          22          17         45   \n",
       "49       g791     Ramicane    Male          11          16         45   \n",
       "...       ...          ...     ...         ...         ...        ...   \n",
       "1859     z314     Stelasyn  Female          21          28          5   \n",
       "1862     z435     Propriva  Female          12          26         10   \n",
       "1872     z581    Infubinol  Female          24          25         45   \n",
       "1882     z795     Naftisol  Female          13          29         45   \n",
       "1892     z969     Naftisol    Male           9          30         45   \n",
       "\n",
       "      Tumor Volume (mm3)  Metastatic Sites  Final Tumor Volume (mm3)  \n",
       "9              22.050126                 1                 22.050126  \n",
       "19             23.343598                 1                 23.343598  \n",
       "29             28.484033                 0                 28.484033  \n",
       "39             28.430964                 1                 28.430964  \n",
       "49             29.128472                 1                 29.128472  \n",
       "...                  ...               ...                       ...  \n",
       "1859           45.934712                 0                 45.934712  \n",
       "1862           48.710661                 0                 48.710661  \n",
       "1872           62.754451                 3                 62.754451  \n",
       "1882           65.741070                 3                 65.741070  \n",
       "1892           73.867845                 4                 73.867845  \n",
       "\n",
       "[249 rows x 9 columns]"
      ]
     },
     "execution_count": 13,
     "metadata": {},
     "output_type": "execute_result"
    }
   ],
   "source": [
    "# Calculate the final tumor volume of each mouse across four of the treatment regimens:  \n",
    "# Capomulin, Ramicane, Infubinol, and Ceftamin\n",
    "# Start by getting the last (greatest) timepoint for each mouse\n",
    "mouse_final_tumor_vol = clean_combined_df.drop_duplicates(subset = 'Mouse ID',keep='last',inplace=False)\n",
    "\n",
    "# capomulin_vol_final = mouse_final_tumor_vol.loc[mouse_final_tumor_vol['Drug Regimen'] == 'Capomulin', 'Tumor Volume (mm3)']\n",
    "# ramicane_vol_final = mouse_final_tumor_vol.loc[mouse_final_tumor_vol['Drug Regimen'] == 'Ramicane', 'Tumor Volume (mm3)']\n",
    "# infubinol_vol_final = mouse_final_tumor_vol.loc[mouse_final_tumor_vol['Drug Regimen'] == 'Infubinol', 'Tumor Volume (mm3)']\n",
    "# ceftamin_vol_final = mouse_final_tumor_vol.loc[mouse_final_tumor_vol['Drug Regimen'] == 'Ceftamin', 'Tumor Volume (mm3)']\n",
    "\n",
    "clean_combined_df_with_final_vol = clean_combined_df\n",
    "clean_combined_df_with_final_vol['Final Tumor Volume (mm3)'] = mouse_final_tumor_vol['Tumor Volume (mm3)']\n",
    "clean_combined_df_with_final_vol = clean_combined_df_with_final_vol.fillna('--')\n",
    "clean_combined_df_with_final_vol.head(50)\n",
    "# Merge this group df with the original dataframe to get the tumor volume at the last timepoint\n",
    "mouse_final_tumor_vol['Final Tumor Volume (mm3)'] = mouse_final_tumor_vol['Tumor Volume (mm3)']\n",
    "mouse_final_tumor_vol"
   ]
  },
  {
   "cell_type": "code",
   "execution_count": 14,
   "metadata": {},
   "outputs": [],
   "source": [
    "clean_combined_df = clean_combined_df.drop(columns = 'Final Tumor Volume (mm3)')"
   ]
  },
  {
   "cell_type": "code",
   "execution_count": 15,
   "metadata": {
    "scrolled": false
   },
   "outputs": [
    {
     "name": "stdout",
     "output_type": "stream",
     "text": [
      "--------------------------------------------------------------\n",
      "Capomulin\n",
      "\n",
      "The lower quartile of the tumor volume for Capomulin is: 37.69\n",
      "The upper quartile of the tumor volume for Capomulin is: 45.0\n",
      "The interquartile range of the tumor volume for Capomulin is: 7.31\n",
      "Values below 26.71 could be outliers.\n",
      "Values above 55.97 could be outliers.\n",
      "\n",
      "The lower bound outlier(s):\n",
      "\n",
      "   Mouse ID Drug Regimen     Sex  Age_months  Weight (g)  Timepoint  \\\n",
      "18     s185    Capomulin  Female           3          17         40   \n",
      "19     s185    Capomulin  Female           3          17         45   \n",
      "\n",
      "    Tumor Volume (mm3)  Metastatic Sites  \n",
      "18           25.472143                 1  \n",
      "19           23.343598                 1  \n",
      "\n",
      "\n",
      "\n",
      "There are no upper bound outliers.\n",
      "\n",
      "\n",
      "--------------------------------------------------------------\n",
      "Ramicane\n",
      "\n",
      "The lower quartile of the tumor volume for Ramicane is: 36.67\n",
      "The upper quartile of the tumor volume for Ramicane is: 45.0\n",
      "The interquartile range of the tumor volume for Ramicane is: 8.33\n",
      "Values below 24.19 could be outliers.\n",
      "Values above 57.49 could be outliers.\n",
      "\n",
      "The lower bound outlier(s):\n",
      "\n",
      "  Mouse ID Drug Regimen   Sex  Age_months  Weight (g)  Timepoint  \\\n",
      "9     k403     Ramicane  Male          21          16         45   \n",
      "\n",
      "   Tumor Volume (mm3)  Metastatic Sites  \n",
      "9           22.050126                 1  \n",
      "\n",
      "\n",
      "\n",
      "There are no upper bound outliers.\n",
      "\n",
      "\n",
      "--------------------------------------------------------------\n",
      "Infubinol\n",
      "\n",
      "The lower quartile of the tumor volume for Infubinol is: 47.31\n",
      "The upper quartile of the tumor volume for Infubinol is: 57.31\n",
      "The interquartile range of the tumor volume for Infubinol is: 10.0\n",
      "Values below 32.31 could be outliers.\n",
      "Values above 72.32 could be outliers.\n",
      "\n",
      "There are no lower bound outliers.\n",
      "\n",
      "There are no upper bound outliers.\n",
      "\n",
      "\n",
      "--------------------------------------------------------------\n",
      "Ceftamin\n",
      "\n",
      "The lower quartile of the tumor volume for Ceftamin is: 47.21\n",
      "The upper quartile of the tumor volume for Ceftamin is: 56.8\n",
      "The interquartile range of the tumor volume for Ceftamin is: 9.59\n",
      "Values below 32.82 could be outliers.\n",
      "Values above 71.19 could be outliers.\n",
      "\n",
      "There are no lower bound outliers.\n",
      "\n",
      "There are no upper bound outliers.\n",
      "\n",
      "\n"
     ]
    }
   ],
   "source": [
    "# Put treatments into a list for for loop (and later for plot labels)\n",
    "drug_list = ['Capomulin', 'Ceftamin', 'Infubinol', 'Ketapril', 'Naftisol', 'Placebo', 'Propriva', 'Ramicane', 'Stelasyn', 'Zoniferol']\n",
    "\n",
    "# Create empty list to fill with tumor vol data (for plotting)\n",
    "tumor_vol_data = []\n",
    "\n",
    "# Calculate the IQR and quantitatively determine if there are any potential outliers. \n",
    "capomulin_vols_final = clean_combined_df.loc[clean_combined_df['Drug Regimen'] == 'Capomulin', 'Tumor Volume (mm3)']\n",
    "ramicane_vols_final = clean_combined_df.loc[clean_combined_df['Drug Regimen'] == 'Ramicane', 'Tumor Volume (mm3)']\n",
    "infubinol_vols_final = clean_combined_df.loc[clean_combined_df['Drug Regimen'] == 'Infubinol', 'Tumor Volume (mm3)']\n",
    "ceftamin_vols_final = clean_combined_df.loc[clean_combined_df['Drug Regimen'] == 'Ceftamin', 'Tumor Volume (mm3)']\n",
    "\n",
    "\n",
    "\n",
    "quartiles = capomulin_vols_final.quantile([.25,.5,.75])\n",
    "lowerq = quartiles[0.25]\n",
    "upperq = quartiles[0.75]\n",
    "iqr = upperq-lowerq\n",
    "lower_bound = lowerq - (1.5*iqr)\n",
    "upper_bound = upperq + (1.5*iqr)\n",
    "\n",
    "quartiles2 = ramicane_vols_final.quantile([.25,.5,.75])\n",
    "lowerq2 = quartiles2[0.25]\n",
    "upperq2 = quartiles2[0.75]\n",
    "iqr2 = upperq2-lowerq2\n",
    "lower_bound2 = lowerq2 - (1.5*iqr2)\n",
    "upper_bound2 = upperq2 + (1.5*iqr2)\n",
    "\n",
    "quartiles3 = infubinol_vols_final.quantile([.25,.5,.75])\n",
    "lowerq3 = quartiles3[0.25]\n",
    "upperq3 = quartiles3[0.75]\n",
    "iqr3 = upperq3-lowerq3\n",
    "lower_bound3 = lowerq3 - (1.5*iqr3)\n",
    "upper_bound3 = upperq3 + (1.5*iqr3)\n",
    "\n",
    "quartiles4 = ceftamin_vols_final.quantile([.25,.5,.75])\n",
    "lowerq4 = quartiles4[0.25]\n",
    "upperq4 = quartiles4[0.75]\n",
    "iqr4 = upperq4-lowerq4\n",
    "lower_bound4 = lowerq4 - (1.5*iqr4)\n",
    "upper_bound4 = upperq4 + (1.5*iqr4)\n",
    "\n",
    "\n",
    "\n",
    "\n",
    "\n",
    "print('--------------------------------------------------------------\\nCapomulin\\n')\n",
    "print(f\"The lower quartile of the tumor volume for Capomulin is: {round(lowerq,2)}\")\n",
    "print(f\"The upper quartile of the tumor volume for Capomulin is: {round(upperq,2)}\")\n",
    "print(f\"The interquartile range of the tumor volume for Capomulin is: {round(iqr,2)}\")\n",
    "print(f\"Values below {round(lower_bound,2)} could be outliers.\")\n",
    "print(f\"Values above {round(upper_bound,2)} could be outliers.\\n\")\n",
    "\n",
    "# Determine outliers using upper and lower bounds\n",
    "cap = clean_combined_df[clean_combined_df['Drug Regimen'].isin(['Capomulin'])]\n",
    "cap_LO = cap[cap['Tumor Volume (mm3)'] < lower_bound]\n",
    "cap_UO = cap[cap['Tumor Volume (mm3)'] > upper_bound]\n",
    "if cap_LO.empty:\n",
    "    print('There are no lower bound outliers.\\n')\n",
    "else:\n",
    "    print(f'The lower bound outlier(s):\\n\\n{cap_LO}\\n\\n\\n')\n",
    "\n",
    "if cap_UO.empty:\n",
    "    print('There are no upper bound outliers.\\n\\n')\n",
    "else:\n",
    "    print(f'The upper bound outlier(s):\\n\\n{cap_UO}\\n\\n\\n\\n\\n')\n",
    "\n",
    "\n",
    "    \n",
    "    \n",
    "print('--------------------------------------------------------------\\nRamicane\\n')\n",
    "print(f\"The lower quartile of the tumor volume for Ramicane is: {round(lowerq2,2)}\")\n",
    "print(f\"The upper quartile of the tumor volume for Ramicane is: {round(upperq2,2)}\")\n",
    "print(f\"The interquartile range of the tumor volume for Ramicane is: {round(iqr2,2)}\")\n",
    "print(f\"Values below {round(lower_bound2,2)} could be outliers.\")\n",
    "print(f\"Values above {round(upper_bound2,2)} could be outliers.\\n\")\n",
    "\n",
    "# Determine outliers using upper and lower bounds\n",
    "ram = clean_combined_df[clean_combined_df['Drug Regimen'].isin(['Ramicane'])]\n",
    "ram_LO = ram[ram['Tumor Volume (mm3)'] < lower_bound2]\n",
    "ram_UO = ram[ram['Tumor Volume (mm3)'] > upper_bound2]\n",
    "if ram_LO.empty:\n",
    "    print('There are no lower bound outliers.\\n')\n",
    "else:\n",
    "    print(f'The lower bound outlier(s):\\n\\n{ram_LO}\\n\\n\\n')\n",
    "\n",
    "if ram_UO.empty:\n",
    "    print('There are no upper bound outliers.\\n\\n')\n",
    "else:\n",
    "    print(f'The upper bound outlier(s):(s):\\n\\n{ram_UO}\\n\\n\\n\\n\\n')\n",
    "\n",
    "\n",
    "\n",
    "\n",
    "print('--------------------------------------------------------------\\nInfubinol\\n')\n",
    "print(f\"The lower quartile of the tumor volume for Infubinol is: {round(lowerq3,2)}\")\n",
    "print(f\"The upper quartile of the tumor volume for Infubinol is: {round(upperq3,2)}\")\n",
    "print(f\"The interquartile range of the tumor volume for Infubinol is: {round(iqr3,2)}\")\n",
    "print(f\"Values below {round(lower_bound3,2)} could be outliers.\")\n",
    "print(f\"Values above {round(upper_bound3,2)} could be outliers.\\n\")\n",
    "\n",
    "# Determine outliers using upper and lower bounds\n",
    "inf = clean_combined_df[clean_combined_df['Drug Regimen'].isin(['Infubinol'])]\n",
    "inf_LO = inf[inf['Tumor Volume (mm3)'] < lower_bound3]\n",
    "inf_UO = inf[inf['Tumor Volume (mm3)'] > upper_bound3]\n",
    "if inf_LO.empty:\n",
    "    print('There are no lower bound outliers.\\n')\n",
    "else:\n",
    "    print(f'The lower bound outlier(s):\\n\\n{inf_LO}\\n\\n\\n')\n",
    "\n",
    "if inf_UO.empty:\n",
    "    print('There are no upper bound outliers.\\n\\n')\n",
    "else:\n",
    "    print(f'The upper bound outlier(s):\\n\\n{inf_UO}\\n\\n\\n\\n\\n')\n",
    "\n",
    "\n",
    "\n",
    "\n",
    "print('--------------------------------------------------------------\\nCeftamin\\n')\n",
    "print(f\"The lower quartile of the tumor volume for Ceftamin is: {round(lowerq4,2)}\")\n",
    "print(f\"The upper quartile of the tumor volume for Ceftamin is: {round(upperq4,2)}\")\n",
    "print(f\"The interquartile range of the tumor volume for Ceftamin is: {round(iqr4,2)}\")\n",
    "print(f\"Values below {round(lower_bound4,2)} could be outliers.\")\n",
    "print(f\"Values above {round(upper_bound4,2)} could be outliers.\\n\")\n",
    "\n",
    "# Determine outliers using upper and lower bounds\n",
    "cef = clean_combined_df[clean_combined_df['Drug Regimen'].isin(['Ceftamin'])]\n",
    "cef_LO = cef[cef['Tumor Volume (mm3)'] < lower_bound4]\n",
    "cef_UO = cef[cef['Tumor Volume (mm3)'] > upper_bound4]\n",
    "if cef_LO.empty:\n",
    "    print('There are no lower bound outliers.\\n')\n",
    "else:\n",
    "    print(f'The lower bound outlier(s):\\n\\n{cef_LO}\\n\\n\\n')\n",
    "\n",
    "if cef_UO.empty:\n",
    "    print('There are no upper bound outliers.\\n\\n')\n",
    "else:\n",
    "    print(f'The upper bound outlier(s):\\n\\n{cef_UO}\\n\\n\\n\\n\\n')\n",
    "\n"
   ]
  },
  {
   "cell_type": "code",
   "execution_count": 16,
   "metadata": {},
   "outputs": [
    {
     "data": {
      "image/png": "[encoded data removed]",
      "text/plain": [
       "<Figure size 432x288 with 1 Axes>"
      ]
     },
     "metadata": {
      "needs_background": "light"
     },
     "output_type": "display_data"
    }
   ],
   "source": [
    "# Generate a box plot of the final tumor volume of each mouse across four regimens of interest\n",
    "plt.boxplot([capomulin_vols_final, ramicane_vols_final, infubinol_vols_final, ceftamin_vols_final], showfliers = True)\n",
    "plt.title('Final Tumor Volume')\n",
    "plt.ylabel('Tumor Volume (mm3)')\n",
    "plt.xticks([1,2,3,4],['Capomulin','Ramicane','Infubinol','Ceftamin'])\n",
    "plt.grid()\n",
    "plt.show()"
   ]
  },
  {
   "cell_type": "markdown",
   "metadata": {},
   "source": [
    "## Line and Scatter Plots"
   ]
  },
  {
   "cell_type": "code",
   "execution_count": 17,
   "metadata": {},
   "outputs": [
    {
     "data": {
      "image/png": "[encoded data removed]",
      "text/plain": [
       "<Figure size 432x288 with 1 Axes>"
      ]
     },
     "metadata": {
      "needs_background": "light"
     },
     "output_type": "display_data"
    }
   ],
   "source": [
    "# Generate a line plot of time point versus tumor volume for a mouse treated with Capomulin\n",
    "capomulin_time_s185 = clean_combined_df.loc[clean_combined_df['Mouse ID'] == 's185', 'Weight (g)']\n",
    "capomulin_vol_s185 = clean_combined_df.loc[clean_combined_df['Mouse ID'] == 's185', 'Tumor Volume (mm3)']\n",
    "plt.plot(capomulin_time_s185,capomulin_vol_s185, marker = 'o', color = 'b')\n",
    "plt.title('Timepoint vs Tumor Volume (s185)')\n",
    "plt.xlabel('Timepoint')\n",
    "plt.ylabel('Tumor Volume (mm3)')\n",
    "plt.grid()\n",
    "plt.show()"
   ]
  },
  {
   "cell_type": "code",
   "execution_count": 18,
   "metadata": {},
   "outputs": [
    {
     "data": {
      "image/png": "[encoded data removed]",
      "text/plain": [
       "<Figure size 432x288 with 1 Axes>"
      ]
     },
     "metadata": {
      "needs_background": "light"
     },
     "output_type": "display_data"
    }
   ],
   "source": [
    "# Generate a scatter plot of mouse weight versus average tumor volume for the Capomulin regimen\n",
    "# averages_mouse_data = clean_combined_df.groupby('Mouse ID').mean()\n",
    "averages_mouse_data_cap = cap.groupby('Mouse ID').mean()\n",
    "\n",
    "all_weight = averages_mouse_data_cap['Weight (g)']\n",
    "all_tumor_volume = averages_mouse_data_cap['Tumor Volume (mm3)']\n",
    "\n",
    "plt.scatter(all_weight, all_tumor_volume)\n",
    "plt.title('Mouse Weight vs Average Tumor Volume (s185)')\n",
    "plt.xlabel('Mouse Weight (g)')\n",
    "plt.ylabel('Tumor Volume (mm3)')\n",
    "plt.grid()\n",
    "plt.show()\n"
   ]
  },
  {
   "cell_type": "markdown",
   "metadata": {},
   "source": [
    "## Correlation and Regression"
   ]
  },
  {
   "cell_type": "code",
   "execution_count": 23,
   "metadata": {},
   "outputs": [
    {
     "data": {
      "image/png": "[encoded data removed]",
      "text/plain": [
       "<Figure size 432x288 with 1 Axes>"
      ]
     },
     "metadata": {
      "needs_background": "light"
     },
     "output_type": "display_data"
    },
    {
     "name": "stdout",
     "output_type": "stream",
     "text": [
      "The correlation between both factors is 0.84\n"
     ]
    }
   ],
   "source": [
    "# Calculate the correlation coefficient and linear regression model \n",
    "# for mouse weight and average tumor volume for the Capomulin regimen\n",
    "correlation = st.pearsonr(all_weight, all_tumor_volume)\n",
    "\n",
    "x_values = all_weight\n",
    "y_values = all_tumor_volume\n",
    "(slope, intercept, rvalue, pvalue, stderr) = linregress(x_values, y_values)\n",
    "regress_values = x_values * slope + intercept\n",
    "line_eq = \"y = \" + str(round(slope,2)) + \"x + \" + str(round(intercept,2))\n",
    "\n",
    "plt.scatter(all_weight, all_tumor_volume)\n",
    "plt.plot(x_values,regress_values,\"r-\")\n",
    "plt.annotate(line_eq, (20,36), fontsize=15, color=\"red\")\n",
    "plt.title('Mouse Weight vs Average Tumor Volume (s185)')\n",
    "plt.xlabel('Mouse Weight (g)')\n",
    "plt.ylabel('Tumor Volume (mm3)')\n",
    "plt.grid()\n",
    "plt.show()\n",
    "print(f\"The correlation between both factors is {round(correlation[0],2)}\")\n"
   ]
  },
  {
   "cell_type": "code",
   "execution_count": null,
   "metadata": {},
   "outputs": [],
   "source": []
  }
 ],
 "metadata": {
  "anaconda-cloud": {},
  "kernelspec": {
   "display_name": "Python 3",
   "language": "python",
   "name": "python3"
  },
  "language_info": {
   "codemirror_mode": {
    "name": "ipython",
    "version": 3
   },
   "file_extension": ".py",
   "mimetype": "text/x-python",
   "name": "python",
   "nbconvert_exporter": "python",
   "pygments_lexer": "ipython3",
   "version": "3.8.3"
  }
 },
 "nbformat": 4,
 "nbformat_minor": 2
}
