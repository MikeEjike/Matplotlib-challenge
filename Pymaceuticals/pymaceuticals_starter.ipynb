{
 "cells": [
  {
   "cell_type": "markdown",
   "metadata": {},
   "source": [
    "## Observations and Insights "
   ]
  },
  {
   "cell_type": "markdown",
   "metadata": {},
   "source": []
  },
  {
   "cell_type": "code",
   "execution_count": null,
   "metadata": {},
   "outputs": [],
   "source": [
    "# Dependencies and Setup\n",
    "import matplotlib.pyplot as plt\n",
    "import pandas as pd\n",
    "import scipy.stats as st\n",
    "import numpy as np\n",
    "from scipy.stats import sem\n",
    "\n",
    "# Study data files\n",
    "mouse_metadata_path = \"data/Mouse_metadata.csv\"\n",
    "study_results_path = \"data/Study_results.csv\"\n",
    "\n",
    "# Read the mouse data and the study results\n",
    "mouse_metadata = pd.read_csv(mouse_metadata_path)\n",
    "study_results = pd.read_csv(study_results_path)\n",
    "\n",
    "# Combine the data into a single dataset\n",
    "combined_df = pd.merge(mouse_metadata,study_results,on=\"Mouse ID\", how=\"left\")\n",
    "\n",
    "# Display the data table for preview\n",
    "combined_df.head()"
   ]
  },
  {
   "cell_type": "code",
   "execution_count": null,
   "metadata": {},
   "outputs": [],
   "source": [
    "# Checking the number of mice.\n",
    "len(combined_df['Mouse ID'])"
   ]
  },
  {
   "cell_type": "code",
   "execution_count": null,
   "metadata": {},
   "outputs": [],
   "source": [
    "# Getting the duplicate mice by ID number that shows up for Mouse ID and Timepoint. \n",
    "duplicateRows_DF = combined_df[combined_df.duplicated()]\n",
    "duplicateRows_DF['Mouse ID']"
   ]
  },
  {
   "cell_type": "code",
   "execution_count": null,
   "metadata": {},
   "outputs": [],
   "source": [
    "# Optional: Get all the data for the duplicate mouse ID. \n",
    "duplicateRows_DF = combined_df[combined_df.duplicated()]\n",
    "duplicateRows_DF"
   ]
  },
  {
   "cell_type": "code",
   "execution_count": null,
   "metadata": {},
   "outputs": [],
   "source": [
    "# Create a clean DataFrame by dropping the duplicate mouse by its ID.\n",
    "clean_combined_df = combined_df.drop_duplicates(keep='first',inplace=False)\n"
   ]
  },
  {
   "cell_type": "code",
   "execution_count": null,
   "metadata": {},
   "outputs": [],
   "source": [
    "# Checking the number of mice in the clean DataFrame.\n",
    "len(clean_combined_df['Mouse ID'])"
   ]
  },
  {
   "cell_type": "markdown",
   "metadata": {},
   "source": [
    "## Summary Statistics"
   ]
  },
  {
   "cell_type": "code",
   "execution_count": null,
   "metadata": {
    "scrolled": true
   },
   "outputs": [],
   "source": [
    "# Generate a summary statistics table of mean, median, variance, standard deviation, and SEM of the tumor volume for each regimen\n",
    "drug_regimen_group = clean_combined_df.groupby('Drug Regimen')\n",
    "mean_drugs = drug_regimen_group['Tumor Volume (mm3)'].mean()\n",
    "\n",
    "drug_list = ['Capomulin', 'Ceftamin', 'Infubinol', 'Ketapril', 'Naftisol', 'Placebo', 'Propriva', 'Ramicane', 'Stelasyn', 'Zoniferol']\n",
    "\n",
    "# All data for each drug regimen\n",
    "d1 = clean_combined_df[clean_combined_df['Drug Regimen'].str.contains(\"Capomulin\")]\n",
    "d2 = clean_combined_df[clean_combined_df['Drug Regimen'].str.contains(\"Ceftamin\")]\n",
    "d3 = clean_combined_df[clean_combined_df['Drug Regimen'].str.contains(\"Infubinol\")]\n",
    "d4 = clean_combined_df[clean_combined_df['Drug Regimen'].str.contains(\"Ketapril\")]\n",
    "d5 = clean_combined_df[clean_combined_df['Drug Regimen'].str.contains(\"Naftisol\")]\n",
    "d6 = clean_combined_df[clean_combined_df['Drug Regimen'].str.contains(\"Placebo\")]\n",
    "d7 = clean_combined_df[clean_combined_df['Drug Regimen'].str.contains(\"Propriva\")]\n",
    "d8 = clean_combined_df[clean_combined_df['Drug Regimen'].str.contains(\"Ramicane\")]\n",
    "d9 = clean_combined_df[clean_combined_df['Drug Regimen'].str.contains(\"Stelasyn\")]\n",
    "d10 = clean_combined_df[clean_combined_df['Drug Regimen'].str.contains(\"Zoniferol\")]\n",
    "\n",
    "# All tumor volumes for each drug regimen\n",
    "d1_vol = d1['Tumor Volume (mm3)']\n",
    "d2_vol = d2['Tumor Volume (mm3)']\n",
    "d3_vol = d3['Tumor Volume (mm3)']\n",
    "d4_vol = d4['Tumor Volume (mm3)']\n",
    "d5_vol = d5['Tumor Volume (mm3)']\n",
    "d6_vol = d6['Tumor Volume (mm3)']\n",
    "d7_vol = d7['Tumor Volume (mm3)']\n",
    "d8_vol = d8['Tumor Volume (mm3)']\n",
    "d9_vol = d9['Tumor Volume (mm3)']\n",
    "d10_vol = d10['Tumor Volume (mm3)']\n",
    "\n",
    "# All mean tumor volumes for each drug regimen\n",
    "mean_d1_vol = np.mean(d1_vol)\n",
    "mean_d2_vol = np.mean(d2_vol)\n",
    "mean_d3_vol = np.mean(d3_vol)\n",
    "mean_d4_vol = np.mean(d4_vol)\n",
    "mean_d5_vol = np.mean(d5_vol)\n",
    "mean_d6_vol = np.mean(d6_vol)\n",
    "mean_d7_vol = np.mean(d7_vol)\n",
    "mean_d8_vol = np.mean(d8_vol)\n",
    "mean_d9_vol = np.mean(d9_vol)\n",
    "mean_d10_vol = np.mean(d10_vol)\n",
    "\n",
    "# All median tumor volumes for each drug regimen\n",
    "median_d1_vol = np.median(d1_vol)\n",
    "median_d2_vol = np.median(d2_vol)\n",
    "median_d3_vol = np.median(d3_vol)\n",
    "median_d4_vol = np.median(d4_vol)\n",
    "median_d5_vol = np.median(d5_vol)\n",
    "median_d6_vol = np.median(d6_vol)\n",
    "median_d7_vol = np.median(d7_vol)\n",
    "median_d8_vol = np.median(d8_vol)\n",
    "median_d9_vol = np.median(d9_vol)\n",
    "median_d10_vol = np.median(d10_vol)\n",
    "\n",
    "# All mode tumor volumes for each drug regimen\n",
    "mode_d1_vol = st.mode(d1_vol)\n",
    "mode_d2_vol = st.mode(d2_vol)\n",
    "mode_d3_vol = st.mode(d3_vol)\n",
    "mode_d4_vol = st.mode(d4_vol)\n",
    "mode_d5_vol = st.mode(d5_vol)\n",
    "mode_d6_vol = st.mode(d6_vol)\n",
    "mode_d7_vol = st.mode(d7_vol)\n",
    "mode_d8_vol = st.mode(d8_vol)\n",
    "mode_d9_vol = st.mode(d9_vol)\n",
    "mode_d10_vol = st.mode(d10_vol)\n",
    "\n",
    "# All variance tumor volumes for each drug regimen\n",
    "var_d1_vol = np.var(d1_vol,ddof = 0)\n",
    "var_d2_vol = np.var(d2_vol,ddof = 0)\n",
    "var_d3_vol = np.var(d3_vol,ddof = 0)\n",
    "var_d4_vol = np.var(d4_vol,ddof = 0)\n",
    "var_d5_vol = np.var(d5_vol,ddof = 0)\n",
    "var_d6_vol = np.var(d6_vol,ddof = 0)\n",
    "var_d7_vol = np.var(d7_vol,ddof = 0)\n",
    "var_d8_vol = np.var(d8_vol,ddof = 0)\n",
    "var_d9_vol = np.var(d9_vol,ddof = 0)\n",
    "var_d10_vol = np.var(d10_vol,ddof = 0)\n",
    "\n",
    "# All standard deviations tumor volumes for each drug regimen\n",
    "std_d1_vol = np.std(d1_vol,ddof = 0)\n",
    "std_d2_vol = np.std(d2_vol,ddof = 0)\n",
    "std_d3_vol = np.std(d3_vol,ddof = 0)\n",
    "std_d4_vol = np.std(d4_vol,ddof = 0)\n",
    "std_d5_vol = np.std(d5_vol,ddof = 0)\n",
    "std_d6_vol = np.std(d6_vol,ddof = 0)\n",
    "std_d7_vol = np.std(d7_vol,ddof = 0)\n",
    "std_d8_vol = np.std(d8_vol,ddof = 0)\n",
    "std_d9_vol = np.std(d9_vol,ddof = 0)\n",
    "std_d10_vol = np.std(d10_vol,ddof = 0)\n",
    "\n",
    "# All SEM tumor volumes for each drug regimen\n",
    "sem_d1_vol = sem(d1_vol)\n",
    "sem_d2_vol = sem(d2_vol)\n",
    "sem_d3_vol = sem(d3_vol)\n",
    "sem_d4_vol = sem(d4_vol)\n",
    "sem_d5_vol = sem(d5_vol)\n",
    "sem_d6_vol = sem(d6_vol)\n",
    "sem_d7_vol = sem(d7_vol)\n",
    "sem_d8_vol = sem(d8_vol)\n",
    "sem_d9_vol = sem(d9_vol)\n",
    "sem_d10_vol = sem(d10_vol)\n",
    "\n",
    "\n",
    "drug_regimen_group['Tumor Volume (mm3)'].mean()\n",
    "mean_drugs\n",
    "# This method is the most straighforward, creating multiple series and putting them all together at the end.\n",
    "summary_statistics = pd.DataFrame({'Drug Regimen': drug_list,\n",
    "                                   'Mean': [mean_d1_vol, mean_d2_vol, mean_d3_vol, mean_d4_vol, mean_d5_vol, mean_d6_vol, mean_d7_vol, mean_d8_vol, mean_d9_vol, mean_d10_vol],\n",
    "                                   'Median': [median_d1_vol, median_d2_vol, median_d3_vol, median_d4_vol, median_d5_vol, median_d6_vol, median_d7_vol, median_d8_vol, median_d9_vol, median_d10_vol],\n",
    "                                   'Mode': [mode_d1_vol, mode_d2_vol, mode_d3_vol, mode_d4_vol, mode_d5_vol, mode_d6_vol, mode_d7_vol, mode_d8_vol, mode_d9_vol, mode_d10_vol],\n",
    "                                   'Variance': [var_d1_vol, var_d2_vol, var_d3_vol, var_d4_vol, var_d5_vol, var_d6_vol, var_d7_vol, var_d8_vol, var_d9_vol, var_d10_vol],\n",
    "                                   'Standard Deviation': [std_d1_vol, std_d2_vol, std_d3_vol, std_d4_vol, std_d5_vol, std_d6_vol, std_d7_vol, std_d8_vol, std_d9_vol, std_d10_vol],\n",
    "                                   'SEM': [sem_d1_vol, sem_d2_vol, sem_d3_vol, sem_d4_vol, sem_d5_vol, sem_d6_vol, sem_d7_vol, sem_d8_vol, sem_d9_vol, sem_d10_vol]})\n",
    "summary_statistics.style.format({'Mean':'{0:,.2f}','Median':'{0:,.2f}','Variance':'{0:,.2f}','Standard Deviation':'{0:,.2f}'})"
   ]
  },
  {
   "cell_type": "code",
   "execution_count": null,
   "metadata": {},
   "outputs": [],
   "source": [
    "# Generate a summary statistics table of mean, median, variance, standard deviation, and SEM of the tumor volume for each regimen\n",
    "drug_regimen_group = clean_combined_df.groupby('Drug Regimen')\n",
    "drug_regimen_group['Tumor Volume (mm3)'].agg(['mean', 'median', 'var', 'std', sem]).style.format({'mean':'{0:,.2f}','median':'{0:,.2f}','var':'{0:,.2f}','std':'{0:,.2f}'})\n",
    "\n",
    "\n",
    "# This method produces everything in a single groupby function\n"
   ]
  },
  {
   "cell_type": "markdown",
   "metadata": {},
   "source": [
    "## Bar and Pie Charts"
   ]
  },
  {
   "cell_type": "code",
   "execution_count": null,
   "metadata": {},
   "outputs": [],
   "source": [
    "# Generate a bar plot showing the total number of mice for each treatment throughout the course of the study using pandas. \n",
    "drug_regimen_group = clean_combined_df.groupby('Drug Regimen')\n",
    "count = drug_regimen_group['Mouse ID'].count()\n",
    "count.plot(kind = 'bar', rot = 45, color = 'purple', grid = 'on', title = 'Total Number of Mice per Treatment')"
   ]
  },
  {
   "cell_type": "code",
   "execution_count": null,
   "metadata": {},
   "outputs": [],
   "source": [
    "# Generate a bar plot showing the total number of mice for each treatment throughout the course of the study using pyplot.\n",
    "plt.bar(drug_list,count, color = 'purple')\n",
    "plt.title('Total Number of Mice per Treatment')\n",
    "plt.xticks(rotation = 45)\n",
    "plt.grid('on')"
   ]
  },
  {
   "cell_type": "code",
   "execution_count": null,
   "metadata": {},
   "outputs": [],
   "source": [
    "# Generate a pie plot showing the distribution of female versus male mice using pandas\n",
    "male_female = clean_combined_df.groupby('Sex')\n",
    "count_mf = male_female['Mouse ID'].count()\n",
    "\n",
    "count_mf.plot(kind = 'pie',startangle=90, title = 'Female vs. Male Distribution',\n",
    "              autopct=\"%1.1f%%\", colors = [\"pink\",\"lightblue\"], shadow=True, label = \" \",\n",
    "             figsize=(5,5))\n"
   ]
  },
  {
   "cell_type": "code",
   "execution_count": null,
   "metadata": {},
   "outputs": [],
   "source": [
    "# Generate a pie plot showing the distribution of female versus male mice using pyplot\n",
    "colors = [\"pink\",\"lightblue\"]\n",
    "explode = (0,0)\n",
    "\n",
    "plt.pie(count_mf, explode=explode, labels= ['Female','Male'], colors=colors, autopct=\"%1.1f%%\", shadow=True, startangle=90)\n",
    "plt.title('Female vs. Male Distribution')\n",
    "plt.axis(\"equal\")\n"
   ]
  },
  {
   "cell_type": "markdown",
   "metadata": {},
   "source": [
    "## Quartiles, Outliers and Boxplots"
   ]
  },
  {
   "cell_type": "code",
   "execution_count": null,
   "metadata": {},
   "outputs": [],
   "source": [
    "# Calculate the final tumor volume of each mouse across four of the treatment regimens:  \n",
    "# Capomulin, Ramicane, Infubinol, and Ceftamin\n",
    "# Start by getting the last (greatest) timepoint for each mouse\n",
    "mouse_final_tumor_vol = clean_combined_df.drop_duplicates(subset = 'Mouse ID',keep='last',inplace=False)\n",
    "\n",
    "# capomulin_vol_final = mouse_final_tumor_vol.loc[mouse_final_tumor_vol['Drug Regimen'] == 'Capomulin', 'Tumor Volume (mm3)']\n",
    "# ramicane_vol_final = mouse_final_tumor_vol.loc[mouse_final_tumor_vol['Drug Regimen'] == 'Ramicane', 'Tumor Volume (mm3)']\n",
    "# infubinol_vol_final = mouse_final_tumor_vol.loc[mouse_final_tumor_vol['Drug Regimen'] == 'Infubinol', 'Tumor Volume (mm3)']\n",
    "# ceftamin_vol_final = mouse_final_tumor_vol.loc[mouse_final_tumor_vol['Drug Regimen'] == 'Ceftamin', 'Tumor Volume (mm3)']\n",
    "\n",
    "clean_combined_df['Final Tumor Volume(mm3)'] = mouse_final_tumor_vol['Tumor Volume (mm3)']\n",
    "clean_combined_df_with_final_vol = clean_combined_df.fillna('--')\n",
    "clean_combined_df_with_final_vol.head(50)\n",
    "# Merge this group df with the original dataframe to get the tumor volume at the last timepoint\n"
   ]
  },
  {
   "cell_type": "code",
   "execution_count": null,
   "metadata": {},
   "outputs": [],
   "source": [
    "# Put treatments into a list for for loop (and later for plot labels)\n",
    "drug_list = ['Capomulin', 'Ceftamin', 'Infubinol', 'Ketapril', 'Naftisol', 'Placebo', 'Propriva', 'Ramicane', 'Stelasyn', 'Zoniferol']\n",
    "\n",
    "# Create empty list to fill with tumor vol data (for plotting)\n",
    "tumor_vol_data = []\n",
    "\n",
    "# Calculate the IQR and quantitatively determine if there are any potential outliers. \n",
    "capomulin_vols_final = clean_combined_df.loc[clean_combined_df['Drug Regimen'] == 'Capomulin', 'Tumor Volume (mm3)']\n",
    "ramicane_vols_final = clean_combined_df.loc[clean_combined_df['Drug Regimen'] == 'Ramicane', 'Tumor Volume (mm3)']\n",
    "infubinol_vols_final = clean_combined_df.loc[clean_combined_df['Drug Regimen'] == 'Infubinol', 'Tumor Volume (mm3)']\n",
    "ceftamin_vols_final = clean_combined_df.loc[clean_combined_df['Drug Regimen'] == 'Ceftamin', 'Tumor Volume (mm3)']\n",
    "\n",
    "\n",
    "\n",
    "quartiles = capomulin_vols_final.quantile([.25,.5,.75])\n",
    "lowerq = quartiles[0.25]\n",
    "upperq = quartiles[0.75]\n",
    "iqr = upperq-lowerq\n",
    "lower_bound = lowerq - (1.5*iqr)\n",
    "upper_bound = upperq + (1.5*iqr)\n",
    "\n",
    "quartiles2 = ramicane_vols_final.quantile([.25,.5,.75])\n",
    "lowerq2 = quartiles2[0.25]\n",
    "upperq2 = quartiles2[0.75]\n",
    "iqr2 = upperq2-lowerq2\n",
    "lower_bound2 = lowerq2 - (1.5*iqr)\n",
    "upper_bound2 = upperq2 + (1.5*iqr)\n",
    "\n",
    "quartiles3 = infubinol_vols_final.quantile([.25,.5,.75])\n",
    "lowerq3 = quartiles3[0.25]\n",
    "upperq3 = quartiles3[0.75]\n",
    "iqr3 = upperq3-lowerq3\n",
    "lower_bound3 = lowerq3 - (1.5*iqr)\n",
    "upper_bound3 = upperq3 + (1.5*iqr)\n",
    "\n",
    "quartiles4 = ceftamin_vols_final.quantile([.25,.5,.75])\n",
    "lowerq4 = quartiles4[0.25]\n",
    "upperq4 = quartiles4[0.75]\n",
    "iqr4 = upperq4-lowerq4\n",
    "lower_bound4 = lowerq4 - (1.5*iqr)\n",
    "upper_bound4 = upperq4 + (1.5*iqr)\n",
    "\n",
    "\n",
    "print(f\"The lower quartile of the tumor volume for Capomulin is: {round(lowerq,2)}\")\n",
    "print(f\"The upper quartile of the tumor volume for Capomulin is: {round(upperq,2)}\")\n",
    "print(f\"The interquartile range of the tumor volume for Capomulin is: {round(iqr,2)}\")\n",
    "print(f\"Values below {round(lower_bound,2)} could be outliers.\")\n",
    "print(f\"Values above {round(upper_bound,2)} could be outliers.\\n\")\n",
    "\n",
    "print(f\"The lower quartile of the tumor volume for Ramicane is: {round(lowerq2,2)}\")\n",
    "print(f\"The upper quartile of the tumor volume for Ramicane is: {round(upperq2,2)}\")\n",
    "print(f\"The interquartile range of the tumor volume for Ramicane is: {round(iqr2,2)}\")\n",
    "print(f\"Values below {round(lower_bound2,2)} could be outliers.\")\n",
    "print(f\"Values above {round(upper_bound2,2)} could be outliers.\\n\")\n",
    "\n",
    "print(f\"The lower quartile of the tumor volume for Infubinol is: {round(lowerq3,2)}\")\n",
    "print(f\"The upper quartile of the tumor volume for Infubinol is: {round(upperq3,2)}\")\n",
    "print(f\"The interquartile range of the tumor volume for Infubinol is: {round(iqr3,2)}\")\n",
    "print(f\"Values below {round(lower_bound3,2)} could be outliers.\")\n",
    "print(f\"Values above {round(upper_bound3,2)} could be outliers.\\n\")\n",
    "\n",
    "print(f\"The lower quartile of the tumor volume for Ceftamin is: {round(lowerq4,2)}\")\n",
    "print(f\"The upper quartile of the tumor volume for Ceftamin is: {round(upperq4,2)}\")\n",
    "print(f\"The interquartile range of the tumor volume for Ceftamin is: {round(iqr4,2)}\")\n",
    "print(f\"Values below {round(lower_bound4,2)} could be outliers.\")\n",
    "print(f\"Values above {round(upper_bound4,2)} could be outliers.\\n\")\n",
    "\n",
    "# Determine outliers using upper and lower bounds\n",
    "cap = clean_combined_df[clean_combined_df['Drug Regimen'].isin(['Capomulin'])]\n",
    "cap[cap['Tumor Volume (mm3)'] < lower_bound]\n",
    "cap[cap['Tumor Volume (mm3)'] > upper_bound]\n",
    "\n",
    "ram = clean_combined_df[clean_combined_df['Drug Regimen'].isin(['Ramicane '])]\n",
    "ram[ram['Tumor Volume (mm3)'] < lower_bound2]\n",
    "ram[ram['Tumor Volume (mm3)'] > upper_bound2]\n",
    "\n",
    "inf = clean_combined_df[clean_combined_df['Drug Regimen'].isin(['Infubinol'])]\n",
    "inf[inf['Tumor Volume (mm3)'] < lower_bound3]\n",
    "inf[inf['Tumor Volume (mm3)'] > upper_bound3]\n",
    "\n",
    "cef = clean_combined_df[clean_combined_df['Drug Regimen'].isin(['Ceftamin'])]\n",
    "cef[cef['Tumor Volume (mm3)'] < lower_bound4]\n",
    "cef_UO = cef[cef['Tumor Volume (mm3)'] > upper_bound4]\n",
    "print(f'The upper bound outliers are:\\n{cef_UO}')\n",
    "# outlier1 = capomulin_vols_final[capomulin_vols_final < round(lower_bound,2)]\n",
    "# clean_combined_df.loc[clean_combined_df['Tumor Volume (mm3)'] == outlier1]\n",
    "# outlier1\n",
    "\n",
    "# cap_outlier_L = clean_combined_df[cap]\n",
    "# cap_outlier_L[cap_outlier_L < lower_bound]"
   ]
  },
  {
   "cell_type": "code",
   "execution_count": null,
   "metadata": {},
   "outputs": [],
   "source": [
    "# Generate a box plot of the final tumor volume of each mouse across four regimens of interest\n"
   ]
  },
  {
   "cell_type": "markdown",
   "metadata": {},
   "source": [
    "## Line and Scatter Plots"
   ]
  },
  {
   "cell_type": "code",
   "execution_count": null,
   "metadata": {},
   "outputs": [],
   "source": [
    "# Generate a line plot of time point versus tumor volume for a mouse treated with Capomulin\n"
   ]
  },
  {
   "cell_type": "code",
   "execution_count": null,
   "metadata": {},
   "outputs": [],
   "source": [
    "# Generate a scatter plot of mouse weight versus average tumor volume for the Capomulin regimen\n"
   ]
  },
  {
   "cell_type": "markdown",
   "metadata": {},
   "source": [
    "## Correlation and Regression"
   ]
  },
  {
   "cell_type": "code",
   "execution_count": null,
   "metadata": {},
   "outputs": [],
   "source": [
    "# Calculate the correlation coefficient and linear regression model \n",
    "# for mouse weight and average tumor volume for the Capomulin regimen\n"
   ]
  },
  {
   "cell_type": "code",
   "execution_count": null,
   "metadata": {},
   "outputs": [],
   "source": []
  }
 ],
 "metadata": {
  "anaconda-cloud": {},
  "kernelspec": {
   "display_name": "Python 3",
   "language": "python",
   "name": "python3"
  },
  "language_info": {
   "codemirror_mode": {
    "name": "ipython",
    "version": 3
   },
   "file_extension": ".py",
   "mimetype": "text/x-python",
   "name": "python",
   "nbconvert_exporter": "python",
   "pygments_lexer": "ipython3",
   "version": "3.8.3"
  }
 },
 "nbformat": 4,
 "nbformat_minor": 2
}
